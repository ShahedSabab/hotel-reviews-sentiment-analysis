{
  "nbformat": 4,
  "nbformat_minor": 0,
  "metadata": {
    "colab": {
      "name": "hotel_reviews_sentiment.ipynb",
      "provenance": [],
      "toc_visible": true
    },
    "kernelspec": {
      "name": "python3",
      "display_name": "Python 3"
    },
    "accelerator": "GPU"
  },
  "cells": [
    {
      "cell_type": "code",
      "metadata": {
        "id": "xlairAppCtKq"
      },
      "source": [
        "!pip install bert-for-tf2 >> /dev/null\r\n",
        "!pip install sentencepiece >> /dev/null"
      ],
      "execution_count": 1,
      "outputs": []
    },
    {
      "cell_type": "code",
      "metadata": {
        "colab": {
          "base_uri": "https://localhost:8080/"
        },
        "id": "ZA-PgmuNQCGc",
        "outputId": "670e6b3a-ad71-4188-d844-03f1a90d7fa5"
      },
      "source": [
        "import os\r\n",
        "import math\r\n",
        "import datetime\r\n",
        "from tqdm import tqdm \r\n",
        "import pandas as pd\r\n",
        "import numpy as np\r\n",
        "import tensorflow as tf\r\n",
        "from tensorflow import keras \r\n",
        "\r\n",
        "import bert \r\n",
        "from bert import BertModelLayer\r\n",
        "from bert.loader import StockBertConfig, map_stock_config_to_params, load_stock_weights\r\n",
        "from bert.tokenization.bert_tokenization import FullTokenizer\r\n",
        "\r\n",
        "from sklearn.metrics import accuracy_score, f1_score, precision_score, recall_score, classification_report\r\n",
        "from sklearn.linear_model import LogisticRegression\r\n",
        "import numpy as np\r\n",
        "import pandas as pd\r\n",
        "import tensorflow as tf\r\n",
        "from collections import defaultdict\r\n",
        "\r\n",
        "import seaborn as sns\r\n",
        "from pylab import rcParams\r\n",
        "import matplotlib.pyplot as plt\r\n",
        "from matplotlib.ticker import MaxNLocator\r\n",
        "from matplotlib import rc\r\n",
        "import string\r\n",
        "from sklearn.feature_extraction.text import CountVectorizer, TfidfVectorizer\r\n",
        "from sklearn.metrics import classification_report,confusion_matrix\r\n",
        "import spacy\r\n",
        "nlp = spacy.load('en', disable=['parser', 'ner'])\r\n",
        "\r\n",
        "import nltk\r\n",
        "nltk.download('stopwords')\r\n",
        "from nltk.corpus import stopwords\r\n",
        "stop = stopwords.words('english')\r\n",
        "stopWordList=set(stopwords.words('english'))\r\n",
        "\r\n",
        "rcParams['figure.figsize'] = 12,8\r\n",
        "RANDOM_SEED = 42"
      ],
      "execution_count": 2,
      "outputs": [
        {
          "output_type": "stream",
          "text": [
            "[nltk_data] Downloading package stopwords to /root/nltk_data...\n",
            "[nltk_data]   Unzipping corpora/stopwords.zip.\n"
          ],
          "name": "stdout"
        }
      ]
    },
    {
      "cell_type": "code",
      "metadata": {
        "id": "vZzXhFtCQfxO"
      },
      "source": [
        "df_train = pd.read_csv(\"sentiment_dataset_train.csv\")\r\n",
        "df_dev = pd.read_csv(\"sentiment_dataset_dev.csv\")\r\n",
        "df_test = pd.read_csv(\"sentiment_dataset_test.csv\")\r\n",
        "df = df_train"
      ],
      "execution_count": 3,
      "outputs": []
    },
    {
      "cell_type": "code",
      "metadata": {
        "colab": {
          "base_uri": "https://localhost:8080/",
          "height": 204
        },
        "id": "cBhY3HjuRcHK",
        "outputId": "7c579162-4c02-4faa-a045-6c3a2dfe6b29"
      },
      "source": [
        "df_train.head()"
      ],
      "execution_count": 4,
      "outputs": [
        {
          "output_type": "execute_result",
          "data": {
            "text/html": [
              "<div>\n",
              "<style scoped>\n",
              "    .dataframe tbody tr th:only-of-type {\n",
              "        vertical-align: middle;\n",
              "    }\n",
              "\n",
              "    .dataframe tbody tr th {\n",
              "        vertical-align: top;\n",
              "    }\n",
              "\n",
              "    .dataframe thead th {\n",
              "        text-align: right;\n",
              "    }\n",
              "</style>\n",
              "<table border=\"1\" class=\"dataframe\">\n",
              "  <thead>\n",
              "    <tr style=\"text-align: right;\">\n",
              "      <th></th>\n",
              "      <th>id</th>\n",
              "      <th>review</th>\n",
              "      <th>rating</th>\n",
              "    </tr>\n",
              "  </thead>\n",
              "  <tbody>\n",
              "    <tr>\n",
              "      <th>0</th>\n",
              "      <td>0</td>\n",
              "      <td>Arrived about 10pm and check in was painless. ...</td>\n",
              "      <td>4</td>\n",
              "    </tr>\n",
              "    <tr>\n",
              "      <th>1</th>\n",
              "      <td>1</td>\n",
              "      <td>I checked in at 4pm even tough room was not re...</td>\n",
              "      <td>2</td>\n",
              "    </tr>\n",
              "    <tr>\n",
              "      <th>2</th>\n",
              "      <td>2</td>\n",
              "      <td>I chose this hotel, as it was in a good locati...</td>\n",
              "      <td>2</td>\n",
              "    </tr>\n",
              "    <tr>\n",
              "      <th>3</th>\n",
              "      <td>3</td>\n",
              "      <td>Great location, super close to shops &amp; a 10min...</td>\n",
              "      <td>4</td>\n",
              "    </tr>\n",
              "    <tr>\n",
              "      <th>4</th>\n",
              "      <td>4</td>\n",
              "      <td>I was in the Sir Adam Hotel to visit a friend....</td>\n",
              "      <td>3</td>\n",
              "    </tr>\n",
              "  </tbody>\n",
              "</table>\n",
              "</div>"
            ],
            "text/plain": [
              "   id                                             review  rating\n",
              "0   0  Arrived about 10pm and check in was painless. ...       4\n",
              "1   1  I checked in at 4pm even tough room was not re...       2\n",
              "2   2  I chose this hotel, as it was in a good locati...       2\n",
              "3   3  Great location, super close to shops & a 10min...       4\n",
              "4   4  I was in the Sir Adam Hotel to visit a friend....       3"
            ]
          },
          "metadata": {
            "tags": []
          },
          "execution_count": 4
        }
      ]
    },
    {
      "cell_type": "code",
      "metadata": {
        "colab": {
          "base_uri": "https://localhost:8080/"
        },
        "id": "kH-UZ23ETUxv",
        "outputId": "a9663bdf-de41-4f7f-ae23-cd6000a078a0"
      },
      "source": [
        "df_train.dtypes"
      ],
      "execution_count": 5,
      "outputs": [
        {
          "output_type": "execute_result",
          "data": {
            "text/plain": [
              "id         int64\n",
              "review    object\n",
              "rating     int64\n",
              "dtype: object"
            ]
          },
          "metadata": {
            "tags": []
          },
          "execution_count": 5
        }
      ]
    },
    {
      "cell_type": "markdown",
      "metadata": {
        "id": "OBCNpSWjlZxL"
      },
      "source": [
        "# Exploratory Data Analysis"
      ]
    },
    {
      "cell_type": "markdown",
      "metadata": {
        "id": "ePmzwR-BldlC"
      },
      "source": [
        "### Check class distribution"
      ]
    },
    {
      "cell_type": "code",
      "metadata": {
        "colab": {
          "base_uri": "https://localhost:8080/",
          "height": 514
        },
        "id": "jgvho83NRd0c",
        "outputId": "39c9cd61-b71e-4c1e-d731-50c94d633594"
      },
      "source": [
        "sns.countplot(x = df_train.rating)"
      ],
      "execution_count": 6,
      "outputs": [
        {
          "output_type": "execute_result",
          "data": {
            "text/plain": [
              "<matplotlib.axes._subplots.AxesSubplot at 0x7f65f81440b8>"
            ]
          },
          "metadata": {
            "tags": []
          },
          "execution_count": 6
        },
        {
          "output_type": "display_data",
          "data": {
            "image/png": "[encoded data removed]",
            "text/plain": [
              "<Figure size 864x576 with 1 Axes>"
            ]
          },
          "metadata": {
            "tags": [],
            "needs_background": "light"
          }
        }
      ]
    },
    {
      "cell_type": "markdown",
      "metadata": {
        "id": "kXrn-ScFS9i6"
      },
      "source": [
        "The data seems to have equal distributions for each class (i.e., rating). This data is pretty well distruted among 5 classes. So, there is no issue with unbalanced class. "
      ]
    },
    {
      "cell_type": "markdown",
      "metadata": {
        "id": "Cz2mzCcETEwt"
      },
      "source": [
        "### Check the length distribution of each category (rating)"
      ]
    },
    {
      "cell_type": "code",
      "metadata": {
        "colab": {
          "base_uri": "https://localhost:8080/",
          "height": 497
        },
        "id": "EhVw5puMRlYM",
        "outputId": "e84d1f7c-e111-4a9a-9d06-3eb145803a9c"
      },
      "source": [
        "df_train['length'] = df_train['review'].str.split().apply(len)\r\n",
        "bins = 30\r\n",
        "plt.hist(df_train[df_train['rating'] == 1]['length'], alpha = 0.6, bins=bins, label='1')\r\n",
        "plt.hist(df_train[df_train['rating'] == 2]['length'], alpha = 0.6, bins=bins, label='2')\r\n",
        "plt.hist(df_train[df_train['rating'] == 3]['length'], alpha = 0.6, bins=bins, label='3')\r\n",
        "plt.hist(df_train[df_train['rating'] == 4]['length'], alpha = 0.6, bins=bins, label='4')\r\n",
        "plt.hist(df_train[df_train['rating'] == 5]['length'], alpha = 0.6, bins=bins, label='5')\r\n",
        "plt.xlabel('length')\r\n",
        "plt.ylabel('frequency')\r\n",
        "plt.legend(loc='upper left')\r\n",
        "plt.xlim(0,200)\r\n",
        "plt.grid()\r\n",
        "plt.show()\r\n"
      ],
      "execution_count": 7,
      "outputs": [
        {
          "output_type": "display_data",
          "data": {
            "image/png": "[encoded data removed]",
            "text/plain": [
              "<Figure size 864x576 with 1 Axes>"
            ]
          },
          "metadata": {
            "tags": [],
            "needs_background": "light"
          }
        }
      ]
    },
    {
      "cell_type": "markdown",
      "metadata": {
        "id": "wbW0Oc3ZXj35"
      },
      "source": [
        "From the length distribution it seems like a large number of reviews either falls under the length of 30-60 words or 120-170 words."
      ]
    },
    {
      "cell_type": "markdown",
      "metadata": {
        "id": "Mo6UjIpncA-D"
      },
      "source": [
        "### Visualizing Frequent words per category"
      ]
    },
    {
      "cell_type": "code",
      "metadata": {
        "id": "l9sDZd0ofZGl"
      },
      "source": [
        "def lemmatization(texts, allowed_postags=['ADJ', 'ADV']):\r\n",
        "  '''\r\n",
        "  Input: text corpus.\r\n",
        "  Output: filtered corpus.\r\n",
        "  This method filters the reviews and strips out everything other than the \r\n",
        "  adverbs and adjectives from the reviews and convert them to the \r\n",
        "  base form.\r\n",
        "  '''\r\n",
        "  texts_out = []\r\n",
        "  for sent in texts:\r\n",
        "      doc = nlp(\"\".join(sent)) \r\n",
        "      texts_out.append([token.lemma_ for token in doc if token.pos_ in allowed_postags])\r\n",
        "  return texts_out\r\n",
        "\r\n",
        "def create_corpus(df, label, topN):\r\n",
        "  '''\r\n",
        "  Input: dataframe, label, top N words\r\n",
        "  Output: plot of the frequent words of specific label \r\n",
        "  This method srtips out the stop words from the corpus and takes the adjective\r\n",
        "  and adverbs. Then it finds out the top frequent words from the corpus. \r\n",
        "  '''\r\n",
        "  corpus=[]\r\n",
        "  \r\n",
        "  for x in df[df['rating']==label]['review'].str.split():\r\n",
        "      for i in x:\r\n",
        "          corpus.append(i)\r\n",
        "\r\n",
        "  corpus_lem = lemmatization(corpus)\r\n",
        "\r\n",
        "  dic=defaultdict(int)\r\n",
        "  for word in corpus_lem:\r\n",
        "    if word:\r\n",
        "      if word[0].lower() not in stopWordList:\r\n",
        "          dic[word[0]]+=1\r\n",
        "\r\n",
        "  top=sorted(dic.items(), key=lambda x:x[1],reverse=True)[:topN]\r\n",
        "\r\n",
        "  plt.rcParams['figure.figsize'] = (10.0, 6.0)\r\n",
        "  x,y=zip(*top)\r\n",
        "  plt.bar(x,y)\r\n",
        "  plt.title('Top '+str(topN)+' frequent words in rating: '+ str(label))\r\n",
        "  "
      ],
      "execution_count": 8,
      "outputs": []
    },
    {
      "cell_type": "code",
      "metadata": {
        "colab": {
          "base_uri": "https://localhost:8080/",
          "height": 390
        },
        "id": "-meh3H58h8rS",
        "outputId": "f8b0daf1-f063-4517-9451-3111a6758b20"
      },
      "source": [
        "create_corpus(df_train[:1000], 1, 5)"
      ],
      "execution_count": 9,
      "outputs": [
        {
          "output_type": "display_data",
          "data": {
            "image/png": "[encoded data removed]",
            "text/plain": [
              "<Figure size 720x432 with 1 Axes>"
            ]
          },
          "metadata": {
            "tags": [],
            "needs_background": "light"
          }
        }
      ]
    },
    {
      "cell_type": "markdown",
      "metadata": {
        "id": "W1SV3tgglt9C"
      },
      "source": [
        "As expected, the lowest rating has some mean words which has been seen more frequent in the reviews."
      ]
    },
    {
      "cell_type": "code",
      "metadata": {
        "colab": {
          "base_uri": "https://localhost:8080/",
          "height": 390
        },
        "id": "1OYZ-M9l838_",
        "outputId": "eea3ff20-bff8-4cdc-919b-80fea5b96a8d"
      },
      "source": [
        "create_corpus(df_train[:1000], 3, 5)"
      ],
      "execution_count": 10,
      "outputs": [
        {
          "output_type": "display_data",
          "data": {
            "image/png": "[encoded data removed]",
            "text/plain": [
              "<Figure size 720x432 with 1 Axes>"
            ]
          },
          "metadata": {
            "tags": [],
            "needs_background": "light"
          }
        }
      ]
    },
    {
      "cell_type": "markdown",
      "metadata": {
        "id": "o8S8PThtl8JX"
      },
      "source": [
        "This seems more neutral, kind of leaning towards positive."
      ]
    },
    {
      "cell_type": "code",
      "metadata": {
        "colab": {
          "base_uri": "https://localhost:8080/",
          "height": 390
        },
        "id": "Ue0Rawmt6xZD",
        "outputId": "0ebfea9d-ae1e-41f3-f49c-79f76a49a94b"
      },
      "source": [
        "create_corpus(df_train[:1000], 5, 5)"
      ],
      "execution_count": 11,
      "outputs": [
        {
          "output_type": "display_data",
          "data": {
            "image/png": "[encoded data removed]",
            "text/plain": [
              "<Figure size 720x432 with 1 Axes>"
            ]
          },
          "metadata": {
            "tags": [],
            "needs_background": "light"
          }
        }
      ]
    },
    {
      "cell_type": "markdown",
      "metadata": {
        "id": "u41_x-gano44"
      },
      "source": [
        "The highest rated reviews seem to have more positive words such as great and good."
      ]
    },
    {
      "cell_type": "markdown",
      "metadata": {
        "id": "dAju9h8erP3p"
      },
      "source": [
        "# Data Cleaning"
      ]
    },
    {
      "cell_type": "code",
      "metadata": {
        "id": "eS_oJbevo8Bs"
      },
      "source": [
        "def remove_stopWords(df, input_field, output_field):\r\n",
        "  '''\r\n",
        "  input: dataframe, input field name, output field name\r\n",
        "  This method removes stop words from the corpus and add the processed texts \r\n",
        "  to the dataframe\r\n",
        "  '''\r\n",
        "  df[output_field] = df[input_field].apply(lambda words: ' '.join(word.lower() for word in words.split() if word not in stop))\r\n",
        "\r\n",
        "def remove_punctuations(df, input_field, output_field):\r\n",
        "  '''\r\n",
        "  input: dataframe, input field name, output field name\r\n",
        "  This method removes punctuations from the corpus and add the processed texts \r\n",
        "  to the dataframe\r\n",
        "  '''\r\n",
        "  table=str.maketrans('','',string.punctuation)\r\n",
        "  df[output_field]=df[input_field].apply(lambda x : x.translate(table))\r\n",
        "\r\n",
        "def lemmatizer(text):\r\n",
        "  '''\r\n",
        "  input: text\r\n",
        "  output: lemmatized text\r\n",
        "  This method converts words to it's base form\r\n",
        "  '''\r\n",
        "  sent = []\r\n",
        "  doc = nlp(text)\r\n",
        "  for word in doc:\r\n",
        "      sent.append(word.lemma_)\r\n",
        "  return \" \".join(sent)"
      ],
      "execution_count": 12,
      "outputs": []
    },
    {
      "cell_type": "markdown",
      "metadata": {
        "id": "r9AWMWMARt_t"
      },
      "source": [
        "### Convert the train-data"
      ]
    },
    {
      "cell_type": "code",
      "metadata": {
        "id": "b_q5vQZLsbT8"
      },
      "source": [
        "remove_stopWords(df_train, 'review', 'processed_review')\r\n",
        "remove_punctuations(df_train, 'processed_review', 'processed_review')\r\n",
        "df_train['processed_review']=df_train['processed_review'].apply(lambda x : lemmatizer(x))\r\n",
        "df_train.to_csv('sentiment_processed_train.csv')"
      ],
      "execution_count": 13,
      "outputs": []
    },
    {
      "cell_type": "markdown",
      "metadata": {
        "id": "3N4MQPZNRwWQ"
      },
      "source": [
        "### Convert the dev-data "
      ]
    },
    {
      "cell_type": "code",
      "metadata": {
        "id": "IwEbP_kysxyE"
      },
      "source": [
        "remove_stopWords(df_dev, 'review', 'processed_review')\r\n",
        "remove_punctuations(df_dev, 'processed_review', 'processed_review')\r\n",
        "df_dev['processed_review']=df_dev['processed_review'].apply(lambda x : lemmatizer(x))\r\n",
        "df_dev.to_csv('sentiment_processed_dev.csv')"
      ],
      "execution_count": 14,
      "outputs": []
    },
    {
      "cell_type": "markdown",
      "metadata": {
        "id": "A2nDMjnnR4LF"
      },
      "source": [
        "### Convert the test-data"
      ]
    },
    {
      "cell_type": "code",
      "metadata": {
        "id": "CIOE7UtQtBNE"
      },
      "source": [
        "remove_stopWords(df_test, 'review', 'processed_review')\r\n",
        "remove_punctuations(df_test, 'processed_review', 'processed_review')\r\n",
        "df_test['processed_review']=df_test['processed_review'].apply(lambda x : lemmatizer(x))\r\n",
        "df_test.to_csv('sentiment_processed_test.csv')"
      ],
      "execution_count": 15,
      "outputs": []
    },
    {
      "cell_type": "markdown",
      "metadata": {
        "id": "3pVnmLgXSGWv"
      },
      "source": [
        "# Build Classification Model"
      ]
    },
    {
      "cell_type": "markdown",
      "metadata": {
        "id": "uRQU7ovbSJe0"
      },
      "source": [
        "### Baseline Model (Tf-Idf + Logistic Regression)"
      ]
    },
    {
      "cell_type": "code",
      "metadata": {
        "id": "CFV_Ev8DNbUF"
      },
      "source": [
        "# Classificaiton metrics - precision, recall, f1, and accuracy\r\n",
        "def get_metrics(y_test, y_predicted): \r\n",
        "  '''\r\n",
        "  input: y_test, y_pred\r\n",
        "  output: accuracy, precision, recall, f1\r\n",
        "  This method calculates the performance of the model.\r\n",
        "  '''\r\n",
        "  # true positives / (true positives+false positives)\r\n",
        "  precision = precision_score(y_test, y_predicted, pos_label=None,\r\n",
        "                                  average='weighted')             \r\n",
        "  # true positives / (true positives + false negatives)\r\n",
        "  recall = recall_score(y_test, y_predicted, pos_label=None,\r\n",
        "                            average='weighted')\r\n",
        "  \r\n",
        "  # harmonic mean of precision and recall\r\n",
        "  f1 = f1_score(y_test, y_predicted, pos_label=None, average='weighted')\r\n",
        "  \r\n",
        "  # true positives + true negatives/ total\r\n",
        "  accuracy = accuracy_score(y_test, y_predicted)\r\n",
        "  return accuracy, precision, recall, f1\r\n",
        "\r\n",
        "# Showing Confusion Matrix\r\n",
        "def plot_cm(y_true, y_pred, title, figsize=(5,5)):\r\n",
        "  '''\r\n",
        "  input: y_true, y_pred, title, figsize\r\n",
        "  This method plots the confusion matrix\r\n",
        "  '''\r\n",
        "  cm = confusion_matrix(y_true, y_pred, labels=np.unique(y_true))\r\n",
        "  cm_sum = np.sum(cm, axis=1, keepdims=True)\r\n",
        "  cm_perc = cm / cm_sum.astype(float) * 100\r\n",
        "  annot = np.empty_like(cm).astype(str)\r\n",
        "  nrows, ncols = cm.shape\r\n",
        "  for i in range(nrows):\r\n",
        "      for j in range(ncols):\r\n",
        "          c = cm[i, j]\r\n",
        "          p = cm_perc[i, j]\r\n",
        "          if i == j:\r\n",
        "              s = cm_sum[i]\r\n",
        "              annot[i, j] = '%.1f%%\\n%d/%d' % (p, c, s)\r\n",
        "          elif c == 0:\r\n",
        "              annot[i, j] = ''\r\n",
        "          else:\r\n",
        "              annot[i, j] = '%.1f%%\\n%d' % (p, c)\r\n",
        "  cm = pd.DataFrame(cm, index=np.unique(y_true), columns=np.unique(y_true))\r\n",
        "  cm.index.name = 'Actual'\r\n",
        "  cm.columns.name = 'Predicted'\r\n",
        "  fig, ax = plt.subplots(figsize=figsize)\r\n",
        "  plt.title(title)\r\n",
        "  sns.heatmap(cm, cmap= \"YlGnBu\", annot=annot, fmt='', ax=ax)"
      ],
      "execution_count": 16,
      "outputs": []
    },
    {
      "cell_type": "code",
      "metadata": {
        "id": "hSQGQOKuGeGn"
      },
      "source": [
        "X_train = df_train['processed_review']\r\n",
        "y_train = df_train['rating']\r\n",
        "X_dev = df_dev['processed_review']\r\n",
        "y_dev = df_dev['rating']\r\n",
        "X_test = df_test['processed_review']\r\n",
        "\r\n",
        "tfidf_vectorizer = TfidfVectorizer()\r\n",
        "X_train_tfidf = tfidf_vectorizer.fit_transform(X_train)\r\n",
        "X_dev_tfidf = tfidf_vectorizer.transform(X_dev)\r\n",
        "X_test_tf_idf = tfidf_vectorizer.transform(X_test)"
      ],
      "execution_count": 17,
      "outputs": []
    },
    {
      "cell_type": "code",
      "metadata": {
        "id": "BnTA7DdoLQny"
      },
      "source": [
        "# Logistic Regression Model\r\n",
        "model = LogisticRegression(class_weight='balanced', solver = 'lbfgs',n_jobs=-1, random_state=40)\r\n",
        "model.fit(X_train_tfidf, y_train)\r\n",
        "y_pred = model.predict(X_dev_tfidf)\r\n",
        "train_pred_bow_int = y_pred.round().astype('int')"
      ],
      "execution_count": 18,
      "outputs": []
    },
    {
      "cell_type": "code",
      "metadata": {
        "colab": {
          "base_uri": "https://localhost:8080/"
        },
        "id": "QitVDBP4Nhgn",
        "outputId": "49a0ed3f-03c7-4b88-9b7d-5024b8c30334"
      },
      "source": [
        "accuracy, precision, recall, f1 = get_metrics(y_dev, y_pred)\r\n",
        "print(\"accuracy = %.3f \\nprecision = %.3f \\nrecall = %.3f \\nf1 = %.3f\" % (accuracy, precision, recall, f1))"
      ],
      "execution_count": 19,
      "outputs": [
        {
          "output_type": "stream",
          "text": [
            "accuracy = 0.758 \n",
            "precision = 0.759 \n",
            "recall = 0.758 \n",
            "f1 = 0.758\n"
          ],
          "name": "stdout"
        }
      ]
    },
    {
      "cell_type": "code",
      "metadata": {
        "colab": {
          "base_uri": "https://localhost:8080/",
          "height": 458
        },
        "id": "kFYMlB38LQh1",
        "outputId": "25c77b9c-7ffb-4baf-d239-abf3b78bc415"
      },
      "source": [
        "# Showing Confusion Matrix for bow model\r\n",
        "plot_cm(train_pred_bow_int, y_dev, 'Confusion matrix for tf-idf + logistic regression model', figsize=(7,7))"
      ],
      "execution_count": 20,
      "outputs": [
        {
          "output_type": "display_data",
          "data": {
            "image/png": "[encoded data removed]",
            "text/plain": [
              "<Figure size 504x504 with 2 Axes>"
            ]
          },
          "metadata": {
            "tags": [],
            "needs_background": "light"
          }
        }
      ]
    },
    {
      "cell_type": "markdown",
      "metadata": {
        "id": "5MkcO2Y7dOVL"
      },
      "source": [
        "### Perform prediction for the test data and save the model"
      ]
    },
    {
      "cell_type": "code",
      "metadata": {
        "id": "yfhSBF7EW6iK"
      },
      "source": [
        "y_pred_test = model.predict(X_test_tf_idf)"
      ],
      "execution_count": 21,
      "outputs": []
    },
    {
      "cell_type": "code",
      "metadata": {
        "id": "35gflBTAYKjv"
      },
      "source": [
        "df_test['predicted_lr'] = y_pred_test\r\n",
        "df_test.to_csv('sentiment_processed_test.csv')"
      ],
      "execution_count": 24,
      "outputs": []
    },
    {
      "cell_type": "code",
      "metadata": {
        "id": "Rr7XmYdYcGsE"
      },
      "source": [
        "import pickle\r\n",
        "# save the classifier\r\n",
        "with open('model_baseline.pkl', 'wb') as fid:\r\n",
        "    pickle.dump(model, fid)  "
      ],
      "execution_count": 33,
      "outputs": []
    }
  ]
}