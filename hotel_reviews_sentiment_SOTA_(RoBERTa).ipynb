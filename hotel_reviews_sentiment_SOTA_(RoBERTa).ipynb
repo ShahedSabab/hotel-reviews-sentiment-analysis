{
  "nbformat": 4,
  "nbformat_minor": 0,
  "metadata": {
    "accelerator": "GPU",
    "colab": {
      "name": "hotel_reviews_sentiment_SOTA_(RoBERTa).ipynb",
      "provenance": [],
      "collapsed_sections": [],
      "toc_visible": true
    },
    "kernelspec": {
      "display_name": "Python 3",
      "language": "python",
      "name": "python3"
    },
    "language_info": {
      "codemirror_mode": {
        "name": "ipython",
        "version": 3
      },
      "file_extension": ".py",
      "mimetype": "text/x-python",
      "name": "python",
      "nbconvert_exporter": "python",
      "pygments_lexer": "ipython3",
      "version": "3.8.3"
    },
    "widgets": {
      "application/vnd.jupyter.widget-state+json": {
        "007c855413ac412f8ca90af36987b08d": {
          "model_module": "@jupyter-widgets/controls",
          "model_name": "HBoxModel",
          "state": {
            "_dom_classes": [],
            "_model_module": "@jupyter-widgets/controls",
            "_model_module_version": "1.5.0",
            "_model_name": "HBoxModel",
            "_view_count": null,
            "_view_module": "@jupyter-widgets/controls",
            "_view_module_version": "1.5.0",
            "_view_name": "HBoxView",
            "box_style": "",
            "children": [
              "IPY_MODEL_693e514653c34da1b089d92367061711",
              "IPY_MODEL_5a85b9ca30b04d7fbe5bd8c948b8dc0b"
            ],
            "layout": "IPY_MODEL_53e26a2d71674f75865569ed243a4132"
          }
        },
        "53e26a2d71674f75865569ed243a4132": {
          "model_module": "@jupyter-widgets/base",
          "model_name": "LayoutModel",
          "state": {
            "_model_module": "@jupyter-widgets/base",
            "_model_module_version": "1.2.0",
            "_model_name": "LayoutModel",
            "_view_count": null,
            "_view_module": "@jupyter-widgets/base",
            "_view_module_version": "1.2.0",
            "_view_name": "LayoutView",
            "align_content": null,
            "align_items": null,
            "align_self": null,
            "border": null,
            "bottom": null,
            "display": null,
            "flex": null,
            "flex_flow": null,
            "grid_area": null,
            "grid_auto_columns": null,
            "grid_auto_flow": null,
            "grid_auto_rows": null,
            "grid_column": null,
            "grid_gap": null,
            "grid_row": null,
            "grid_template_areas": null,
            "grid_template_columns": null,
            "grid_template_rows": null,
            "height": null,
            "justify_content": null,
            "justify_items": null,
            "left": null,
            "margin": null,
            "max_height": null,
            "max_width": null,
            "min_height": null,
            "min_width": null,
            "object_fit": null,
            "object_position": null,
            "order": null,
            "overflow": null,
            "overflow_x": null,
            "overflow_y": null,
            "padding": null,
            "right": null,
            "top": null,
            "visibility": null,
            "width": null
          }
        },
        "693e514653c34da1b089d92367061711": {
          "model_module": "@jupyter-widgets/controls",
          "model_name": "FloatProgressModel",
          "state": {
            "_dom_classes": [],
            "_model_module": "@jupyter-widgets/controls",
            "_model_module_version": "1.5.0",
            "_model_name": "FloatProgressModel",
            "_view_count": null,
            "_view_module": "@jupyter-widgets/controls",
            "_view_module_version": "1.5.0",
            "_view_name": "ProgressView",
            "bar_style": "success",
            "description": "Downloading: 100%",
            "description_tooltip": null,
            "layout": "IPY_MODEL_69a450d947844589b48a756bb5a0569a",
            "max": 898823,
            "min": 0,
            "orientation": "horizontal",
            "style": "IPY_MODEL_555316055b4f4bd8afd935ecf0f748e2",
            "value": 898823
          }
        },
        "5a85b9ca30b04d7fbe5bd8c948b8dc0b": {
          "model_module": "@jupyter-widgets/controls",
          "model_name": "HTMLModel",
          "state": {
            "_dom_classes": [],
            "_model_module": "@jupyter-widgets/controls",
            "_model_module_version": "1.5.0",
            "_model_name": "HTMLModel",
            "_view_count": null,
            "_view_module": "@jupyter-widgets/controls",
            "_view_module_version": "1.5.0",
            "_view_name": "HTMLView",
            "description": "",
            "description_tooltip": null,
            "layout": "IPY_MODEL_fe2b2549404c4f858eca97db4a763ba4",
            "placeholder": "​",
            "style": "IPY_MODEL_2d8bac82f5764276963f1249a66eed7d",
            "value": " 899k/899k [00:00&lt;00:00, 5.61MB/s]"
          }
        },
        "555316055b4f4bd8afd935ecf0f748e2": {
          "model_module": "@jupyter-widgets/controls",
          "model_name": "ProgressStyleModel",
          "state": {
            "_model_module": "@jupyter-widgets/controls",
            "_model_module_version": "1.5.0",
            "_model_name": "ProgressStyleModel",
            "_view_count": null,
            "_view_module": "@jupyter-widgets/base",
            "_view_module_version": "1.2.0",
            "_view_name": "StyleView",
            "bar_color": null,
            "description_width": "initial"
          }
        },
        "69a450d947844589b48a756bb5a0569a": {
          "model_module": "@jupyter-widgets/base",
          "model_name": "LayoutModel",
          "state": {
            "_model_module": "@jupyter-widgets/base",
            "_model_module_version": "1.2.0",
            "_model_name": "LayoutModel",
            "_view_count": null,
            "_view_module": "@jupyter-widgets/base",
            "_view_module_version": "1.2.0",
            "_view_name": "LayoutView",
            "align_content": null,
            "align_items": null,
            "align_self": null,
            "border": null,
            "bottom": null,
            "display": null,
            "flex": null,
            "flex_flow": null,
            "grid_area": null,
            "grid_auto_columns": null,
            "grid_auto_flow": null,
            "grid_auto_rows": null,
            "grid_column": null,
            "grid_gap": null,
            "grid_row": null,
            "grid_template_areas": null,
            "grid_template_columns": null,
            "grid_template_rows": null,
            "height": null,
            "justify_content": null,
            "justify_items": null,
            "left": null,
            "margin": null,
            "max_height": null,
            "max_width": null,
            "min_height": null,
            "min_width": null,
            "object_fit": null,
            "object_position": null,
            "order": null,
            "overflow": null,
            "overflow_x": null,
            "overflow_y": null,
            "padding": null,
            "right": null,
            "top": null,
            "visibility": null,
            "width": null
          }
        },
        "2d8bac82f5764276963f1249a66eed7d": {
          "model_module": "@jupyter-widgets/controls",
          "model_name": "DescriptionStyleModel",
          "state": {
            "_model_module": "@jupyter-widgets/controls",
            "_model_module_version": "1.5.0",
            "_model_name": "DescriptionStyleModel",
            "_view_count": null,
            "_view_module": "@jupyter-widgets/base",
            "_view_module_version": "1.2.0",
            "_view_name": "StyleView",
            "description_width": ""
          }
        },
        "fe2b2549404c4f858eca97db4a763ba4": {
          "model_module": "@jupyter-widgets/base",
          "model_name": "LayoutModel",
          "state": {
            "_model_module": "@jupyter-widgets/base",
            "_model_module_version": "1.2.0",
            "_model_name": "LayoutModel",
            "_view_count": null,
            "_view_module": "@jupyter-widgets/base",
            "_view_module_version": "1.2.0",
            "_view_name": "LayoutView",
            "align_content": null,
            "align_items": null,
            "align_self": null,
            "border": null,
            "bottom": null,
            "display": null,
            "flex": null,
            "flex_flow": null,
            "grid_area": null,
            "grid_auto_columns": null,
            "grid_auto_flow": null,
            "grid_auto_rows": null,
            "grid_column": null,
            "grid_gap": null,
            "grid_row": null,
            "grid_template_areas": null,
            "grid_template_columns": null,
            "grid_template_rows": null,
            "height": null,
            "justify_content": null,
            "justify_items": null,
            "left": null,
            "margin": null,
            "max_height": null,
            "max_width": null,
            "min_height": null,
            "min_width": null,
            "object_fit": null,
            "object_position": null,
            "order": null,
            "overflow": null,
            "overflow_x": null,
            "overflow_y": null,
            "padding": null,
            "right": null,
            "top": null,
            "visibility": null,
            "width": null
          }
        },
        "ec991f6e19904276b173dd8335edb983": {
          "model_module": "@jupyter-widgets/controls",
          "model_name": "HBoxModel",
          "state": {
            "_dom_classes": [],
            "_model_module": "@jupyter-widgets/controls",
            "_model_module_version": "1.5.0",
            "_model_name": "HBoxModel",
            "_view_count": null,
            "_view_module": "@jupyter-widgets/controls",
            "_view_module_version": "1.5.0",
            "_view_name": "HBoxView",
            "box_style": "",
            "children": [
              "IPY_MODEL_584f48cda869472fa9937c1559560312",
              "IPY_MODEL_150eea265d474c95b059c303c3735d91"
            ],
            "layout": "IPY_MODEL_55eda52c3fac486aa2f38e2b7944888e"
          }
        },
        "55eda52c3fac486aa2f38e2b7944888e": {
          "model_module": "@jupyter-widgets/base",
          "model_name": "LayoutModel",
          "state": {
            "_model_module": "@jupyter-widgets/base",
            "_model_module_version": "1.2.0",
            "_model_name": "LayoutModel",
            "_view_count": null,
            "_view_module": "@jupyter-widgets/base",
            "_view_module_version": "1.2.0",
            "_view_name": "LayoutView",
            "align_content": null,
            "align_items": null,
            "align_self": null,
            "border": null,
            "bottom": null,
            "display": null,
            "flex": null,
            "flex_flow": null,
            "grid_area": null,
            "grid_auto_columns": null,
            "grid_auto_flow": null,
            "grid_auto_rows": null,
            "grid_column": null,
            "grid_gap": null,
            "grid_row": null,
            "grid_template_areas": null,
            "grid_template_columns": null,
            "grid_template_rows": null,
            "height": null,
            "justify_content": null,
            "justify_items": null,
            "left": null,
            "margin": null,
            "max_height": null,
            "max_width": null,
            "min_height": null,
            "min_width": null,
            "object_fit": null,
            "object_position": null,
            "order": null,
            "overflow": null,
            "overflow_x": null,
            "overflow_y": null,
            "padding": null,
            "right": null,
            "top": null,
            "visibility": null,
            "width": null
          }
        },
        "584f48cda869472fa9937c1559560312": {
          "model_module": "@jupyter-widgets/controls",
          "model_name": "FloatProgressModel",
          "state": {
            "_dom_classes": [],
            "_model_module": "@jupyter-widgets/controls",
            "_model_module_version": "1.5.0",
            "_model_name": "FloatProgressModel",
            "_view_count": null,
            "_view_module": "@jupyter-widgets/controls",
            "_view_module_version": "1.5.0",
            "_view_name": "ProgressView",
            "bar_style": "success",
            "description": "Downloading: 100%",
            "description_tooltip": null,
            "layout": "IPY_MODEL_3ecb364b7208404ca48201751566297c",
            "max": 456318,
            "min": 0,
            "orientation": "horizontal",
            "style": "IPY_MODEL_eb030d9297a64c909a70a6b7624110ca",
            "value": 456318
          }
        },
        "150eea265d474c95b059c303c3735d91": {
          "model_module": "@jupyter-widgets/controls",
          "model_name": "HTMLModel",
          "state": {
            "_dom_classes": [],
            "_model_module": "@jupyter-widgets/controls",
            "_model_module_version": "1.5.0",
            "_model_name": "HTMLModel",
            "_view_count": null,
            "_view_module": "@jupyter-widgets/controls",
            "_view_module_version": "1.5.0",
            "_view_name": "HTMLView",
            "description": "",
            "description_tooltip": null,
            "layout": "IPY_MODEL_4a90e85a95004dc8ab3d5aa6b0c2e44c",
            "placeholder": "​",
            "style": "IPY_MODEL_9eca37aef3bd49abbc601b64f48f180d",
            "value": " 456k/456k [00:00&lt;00:00, 4.10MB/s]"
          }
        },
        "eb030d9297a64c909a70a6b7624110ca": {
          "model_module": "@jupyter-widgets/controls",
          "model_name": "ProgressStyleModel",
          "state": {
            "_model_module": "@jupyter-widgets/controls",
            "_model_module_version": "1.5.0",
            "_model_name": "ProgressStyleModel",
            "_view_count": null,
            "_view_module": "@jupyter-widgets/base",
            "_view_module_version": "1.2.0",
            "_view_name": "StyleView",
            "bar_color": null,
            "description_width": "initial"
          }
        },
        "3ecb364b7208404ca48201751566297c": {
          "model_module": "@jupyter-widgets/base",
          "model_name": "LayoutModel",
          "state": {
            "_model_module": "@jupyter-widgets/base",
            "_model_module_version": "1.2.0",
            "_model_name": "LayoutModel",
            "_view_count": null,
            "_view_module": "@jupyter-widgets/base",
            "_view_module_version": "1.2.0",
            "_view_name": "LayoutView",
            "align_content": null,
            "align_items": null,
            "align_self": null,
            "border": null,
            "bottom": null,
            "display": null,
            "flex": null,
            "flex_flow": null,
            "grid_area": null,
            "grid_auto_columns": null,
            "grid_auto_flow": null,
            "grid_auto_rows": null,
            "grid_column": null,
            "grid_gap": null,
            "grid_row": null,
            "grid_template_areas": null,
            "grid_template_columns": null,
            "grid_template_rows": null,
            "height": null,
            "justify_content": null,
            "justify_items": null,
            "left": null,
            "margin": null,
            "max_height": null,
            "max_width": null,
            "min_height": null,
            "min_width": null,
            "object_fit": null,
            "object_position": null,
            "order": null,
            "overflow": null,
            "overflow_x": null,
            "overflow_y": null,
            "padding": null,
            "right": null,
            "top": null,
            "visibility": null,
            "width": null
          }
        },
        "9eca37aef3bd49abbc601b64f48f180d": {
          "model_module": "@jupyter-widgets/controls",
          "model_name": "DescriptionStyleModel",
          "state": {
            "_model_module": "@jupyter-widgets/controls",
            "_model_module_version": "1.5.0",
            "_model_name": "DescriptionStyleModel",
            "_view_count": null,
            "_view_module": "@jupyter-widgets/base",
            "_view_module_version": "1.2.0",
            "_view_name": "StyleView",
            "description_width": ""
          }
        },
        "4a90e85a95004dc8ab3d5aa6b0c2e44c": {
          "model_module": "@jupyter-widgets/base",
          "model_name": "LayoutModel",
          "state": {
            "_model_module": "@jupyter-widgets/base",
            "_model_module_version": "1.2.0",
            "_model_name": "LayoutModel",
            "_view_count": null,
            "_view_module": "@jupyter-widgets/base",
            "_view_module_version": "1.2.0",
            "_view_name": "LayoutView",
            "align_content": null,
            "align_items": null,
            "align_self": null,
            "border": null,
            "bottom": null,
            "display": null,
            "flex": null,
            "flex_flow": null,
            "grid_area": null,
            "grid_auto_columns": null,
            "grid_auto_flow": null,
            "grid_auto_rows": null,
            "grid_column": null,
            "grid_gap": null,
            "grid_row": null,
            "grid_template_areas": null,
            "grid_template_columns": null,
            "grid_template_rows": null,
            "height": null,
            "justify_content": null,
            "justify_items": null,
            "left": null,
            "margin": null,
            "max_height": null,
            "max_width": null,
            "min_height": null,
            "min_width": null,
            "object_fit": null,
            "object_position": null,
            "order": null,
            "overflow": null,
            "overflow_x": null,
            "overflow_y": null,
            "padding": null,
            "right": null,
            "top": null,
            "visibility": null,
            "width": null
          }
        },
        "eab49099bbfc4ae695aaf9eadf81a582": {
          "model_module": "@jupyter-widgets/controls",
          "model_name": "HBoxModel",
          "state": {
            "_dom_classes": [],
            "_model_module": "@jupyter-widgets/controls",
            "_model_module_version": "1.5.0",
            "_model_name": "HBoxModel",
            "_view_count": null,
            "_view_module": "@jupyter-widgets/controls",
            "_view_module_version": "1.5.0",
            "_view_name": "HBoxView",
            "box_style": "",
            "children": [
              "IPY_MODEL_548e6daca31342b2bccd7588b53251c1",
              "IPY_MODEL_ac414a99e38b420590c3e23fa7ec0c74"
            ],
            "layout": "IPY_MODEL_1b05a8fa2f27420cb16db42c65c098c8"
          }
        },
        "1b05a8fa2f27420cb16db42c65c098c8": {
          "model_module": "@jupyter-widgets/base",
          "model_name": "LayoutModel",
          "state": {
            "_model_module": "@jupyter-widgets/base",
            "_model_module_version": "1.2.0",
            "_model_name": "LayoutModel",
            "_view_count": null,
            "_view_module": "@jupyter-widgets/base",
            "_view_module_version": "1.2.0",
            "_view_name": "LayoutView",
            "align_content": null,
            "align_items": null,
            "align_self": null,
            "border": null,
            "bottom": null,
            "display": null,
            "flex": null,
            "flex_flow": null,
            "grid_area": null,
            "grid_auto_columns": null,
            "grid_auto_flow": null,
            "grid_auto_rows": null,
            "grid_column": null,
            "grid_gap": null,
            "grid_row": null,
            "grid_template_areas": null,
            "grid_template_columns": null,
            "grid_template_rows": null,
            "height": null,
            "justify_content": null,
            "justify_items": null,
            "left": null,
            "margin": null,
            "max_height": null,
            "max_width": null,
            "min_height": null,
            "min_width": null,
            "object_fit": null,
            "object_position": null,
            "order": null,
            "overflow": null,
            "overflow_x": null,
            "overflow_y": null,
            "padding": null,
            "right": null,
            "top": null,
            "visibility": null,
            "width": null
          }
        },
        "548e6daca31342b2bccd7588b53251c1": {
          "model_module": "@jupyter-widgets/controls",
          "model_name": "FloatProgressModel",
          "state": {
            "_dom_classes": [],
            "_model_module": "@jupyter-widgets/controls",
            "_model_module_version": "1.5.0",
            "_model_name": "FloatProgressModel",
            "_view_count": null,
            "_view_module": "@jupyter-widgets/controls",
            "_view_module_version": "1.5.0",
            "_view_name": "ProgressView",
            "bar_style": "success",
            "description": "Downloading: 100%",
            "description_tooltip": null,
            "layout": "IPY_MODEL_6643e1b2c2ed40099395d7deca069189",
            "max": 481,
            "min": 0,
            "orientation": "horizontal",
            "style": "IPY_MODEL_abfad6c1ab534c92a03c28207cf28bd1",
            "value": 481
          }
        },
        "ac414a99e38b420590c3e23fa7ec0c74": {
          "model_module": "@jupyter-widgets/controls",
          "model_name": "HTMLModel",
          "state": {
            "_dom_classes": [],
            "_model_module": "@jupyter-widgets/controls",
            "_model_module_version": "1.5.0",
            "_model_name": "HTMLModel",
            "_view_count": null,
            "_view_module": "@jupyter-widgets/controls",
            "_view_module_version": "1.5.0",
            "_view_name": "HTMLView",
            "description": "",
            "description_tooltip": null,
            "layout": "IPY_MODEL_cf3228650db34b29a6c13509ca535e4e",
            "placeholder": "​",
            "style": "IPY_MODEL_334626d225e146069526be82218ffd01",
            "value": " 481/481 [01:29&lt;00:00, 5.34B/s]"
          }
        },
        "abfad6c1ab534c92a03c28207cf28bd1": {
          "model_module": "@jupyter-widgets/controls",
          "model_name": "ProgressStyleModel",
          "state": {
            "_model_module": "@jupyter-widgets/controls",
            "_model_module_version": "1.5.0",
            "_model_name": "ProgressStyleModel",
            "_view_count": null,
            "_view_module": "@jupyter-widgets/base",
            "_view_module_version": "1.2.0",
            "_view_name": "StyleView",
            "bar_color": null,
            "description_width": "initial"
          }
        },
        "6643e1b2c2ed40099395d7deca069189": {
          "model_module": "@jupyter-widgets/base",
          "model_name": "LayoutModel",
          "state": {
            "_model_module": "@jupyter-widgets/base",
            "_model_module_version": "1.2.0",
            "_model_name": "LayoutModel",
            "_view_count": null,
            "_view_module": "@jupyter-widgets/base",
            "_view_module_version": "1.2.0",
            "_view_name": "LayoutView",
            "align_content": null,
            "align_items": null,
            "align_self": null,
            "border": null,
            "bottom": null,
            "display": null,
            "flex": null,
            "flex_flow": null,
            "grid_area": null,
            "grid_auto_columns": null,
            "grid_auto_flow": null,
            "grid_auto_rows": null,
            "grid_column": null,
            "grid_gap": null,
            "grid_row": null,
            "grid_template_areas": null,
            "grid_template_columns": null,
            "grid_template_rows": null,
            "height": null,
            "justify_content": null,
            "justify_items": null,
            "left": null,
            "margin": null,
            "max_height": null,
            "max_width": null,
            "min_height": null,
            "min_width": null,
            "object_fit": null,
            "object_position": null,
            "order": null,
            "overflow": null,
            "overflow_x": null,
            "overflow_y": null,
            "padding": null,
            "right": null,
            "top": null,
            "visibility": null,
            "width": null
          }
        },
        "334626d225e146069526be82218ffd01": {
          "model_module": "@jupyter-widgets/controls",
          "model_name": "DescriptionStyleModel",
          "state": {
            "_model_module": "@jupyter-widgets/controls",
            "_model_module_version": "1.5.0",
            "_model_name": "DescriptionStyleModel",
            "_view_count": null,
            "_view_module": "@jupyter-widgets/base",
            "_view_module_version": "1.2.0",
            "_view_name": "StyleView",
            "description_width": ""
          }
        },
        "cf3228650db34b29a6c13509ca535e4e": {
          "model_module": "@jupyter-widgets/base",
          "model_name": "LayoutModel",
          "state": {
            "_model_module": "@jupyter-widgets/base",
            "_model_module_version": "1.2.0",
            "_model_name": "LayoutModel",
            "_view_count": null,
            "_view_module": "@jupyter-widgets/base",
            "_view_module_version": "1.2.0",
            "_view_name": "LayoutView",
            "align_content": null,
            "align_items": null,
            "align_self": null,
            "border": null,
            "bottom": null,
            "display": null,
            "flex": null,
            "flex_flow": null,
            "grid_area": null,
            "grid_auto_columns": null,
            "grid_auto_flow": null,
            "grid_auto_rows": null,
            "grid_column": null,
            "grid_gap": null,
            "grid_row": null,
            "grid_template_areas": null,
            "grid_template_columns": null,
            "grid_template_rows": null,
            "height": null,
            "justify_content": null,
            "justify_items": null,
            "left": null,
            "margin": null,
            "max_height": null,
            "max_width": null,
            "min_height": null,
            "min_width": null,
            "object_fit": null,
            "object_position": null,
            "order": null,
            "overflow": null,
            "overflow_x": null,
            "overflow_y": null,
            "padding": null,
            "right": null,
            "top": null,
            "visibility": null,
            "width": null
          }
        },
        "885162691d46411dbeebad05fd8f2e40": {
          "model_module": "@jupyter-widgets/controls",
          "model_name": "HBoxModel",
          "state": {
            "_dom_classes": [],
            "_model_module": "@jupyter-widgets/controls",
            "_model_module_version": "1.5.0",
            "_model_name": "HBoxModel",
            "_view_count": null,
            "_view_module": "@jupyter-widgets/controls",
            "_view_module_version": "1.5.0",
            "_view_name": "HBoxView",
            "box_style": "",
            "children": [
              "IPY_MODEL_e0b6db1de7f444a1b3aaf17bfab1a231",
              "IPY_MODEL_1b1f377707c34e67b24121a576f23b4e"
            ],
            "layout": "IPY_MODEL_ee7a0f8861244704b097d67a6e890d63"
          }
        },
        "ee7a0f8861244704b097d67a6e890d63": {
          "model_module": "@jupyter-widgets/base",
          "model_name": "LayoutModel",
          "state": {
            "_model_module": "@jupyter-widgets/base",
            "_model_module_version": "1.2.0",
            "_model_name": "LayoutModel",
            "_view_count": null,
            "_view_module": "@jupyter-widgets/base",
            "_view_module_version": "1.2.0",
            "_view_name": "LayoutView",
            "align_content": null,
            "align_items": null,
            "align_self": null,
            "border": null,
            "bottom": null,
            "display": null,
            "flex": null,
            "flex_flow": null,
            "grid_area": null,
            "grid_auto_columns": null,
            "grid_auto_flow": null,
            "grid_auto_rows": null,
            "grid_column": null,
            "grid_gap": null,
            "grid_row": null,
            "grid_template_areas": null,
            "grid_template_columns": null,
            "grid_template_rows": null,
            "height": null,
            "justify_content": null,
            "justify_items": null,
            "left": null,
            "margin": null,
            "max_height": null,
            "max_width": null,
            "min_height": null,
            "min_width": null,
            "object_fit": null,
            "object_position": null,
            "order": null,
            "overflow": null,
            "overflow_x": null,
            "overflow_y": null,
            "padding": null,
            "right": null,
            "top": null,
            "visibility": null,
            "width": null
          }
        },
        "e0b6db1de7f444a1b3aaf17bfab1a231": {
          "model_module": "@jupyter-widgets/controls",
          "model_name": "FloatProgressModel",
          "state": {
            "_dom_classes": [],
            "_model_module": "@jupyter-widgets/controls",
            "_model_module_version": "1.5.0",
            "_model_name": "FloatProgressModel",
            "_view_count": null,
            "_view_module": "@jupyter-widgets/controls",
            "_view_module_version": "1.5.0",
            "_view_name": "ProgressView",
            "bar_style": "success",
            "description": "Downloading: 100%",
            "description_tooltip": null,
            "layout": "IPY_MODEL_a7be93d9d26d44a39256e6dde8067051",
            "max": 501200538,
            "min": 0,
            "orientation": "horizontal",
            "style": "IPY_MODEL_c6577c60b82847eab9152518463ef184",
            "value": 501200538
          }
        },
        "1b1f377707c34e67b24121a576f23b4e": {
          "model_module": "@jupyter-widgets/controls",
          "model_name": "HTMLModel",
          "state": {
            "_dom_classes": [],
            "_model_module": "@jupyter-widgets/controls",
            "_model_module_version": "1.5.0",
            "_model_name": "HTMLModel",
            "_view_count": null,
            "_view_module": "@jupyter-widgets/controls",
            "_view_module_version": "1.5.0",
            "_view_name": "HTMLView",
            "description": "",
            "description_tooltip": null,
            "layout": "IPY_MODEL_454ad40156474dd7912229d4f5cdc7eb",
            "placeholder": "​",
            "style": "IPY_MODEL_e477b89497b94ee3905e97525475f757",
            "value": " 501M/501M [00:08&lt;00:00, 60.6MB/s]"
          }
        },
        "c6577c60b82847eab9152518463ef184": {
          "model_module": "@jupyter-widgets/controls",
          "model_name": "ProgressStyleModel",
          "state": {
            "_model_module": "@jupyter-widgets/controls",
            "_model_module_version": "1.5.0",
            "_model_name": "ProgressStyleModel",
            "_view_count": null,
            "_view_module": "@jupyter-widgets/base",
            "_view_module_version": "1.2.0",
            "_view_name": "StyleView",
            "bar_color": null,
            "description_width": "initial"
          }
        },
        "a7be93d9d26d44a39256e6dde8067051": {
          "model_module": "@jupyter-widgets/base",
          "model_name": "LayoutModel",
          "state": {
            "_model_module": "@jupyter-widgets/base",
            "_model_module_version": "1.2.0",
            "_model_name": "LayoutModel",
            "_view_count": null,
            "_view_module": "@jupyter-widgets/base",
            "_view_module_version": "1.2.0",
            "_view_name": "LayoutView",
            "align_content": null,
            "align_items": null,
            "align_self": null,
            "border": null,
            "bottom": null,
            "display": null,
            "flex": null,
            "flex_flow": null,
            "grid_area": null,
            "grid_auto_columns": null,
            "grid_auto_flow": null,
            "grid_auto_rows": null,
            "grid_column": null,
            "grid_gap": null,
            "grid_row": null,
            "grid_template_areas": null,
            "grid_template_columns": null,
            "grid_template_rows": null,
            "height": null,
            "justify_content": null,
            "justify_items": null,
            "left": null,
            "margin": null,
            "max_height": null,
            "max_width": null,
            "min_height": null,
            "min_width": null,
            "object_fit": null,
            "object_position": null,
            "order": null,
            "overflow": null,
            "overflow_x": null,
            "overflow_y": null,
            "padding": null,
            "right": null,
            "top": null,
            "visibility": null,
            "width": null
          }
        },
        "e477b89497b94ee3905e97525475f757": {
          "model_module": "@jupyter-widgets/controls",
          "model_name": "DescriptionStyleModel",
          "state": {
            "_model_module": "@jupyter-widgets/controls",
            "_model_module_version": "1.5.0",
            "_model_name": "DescriptionStyleModel",
            "_view_count": null,
            "_view_module": "@jupyter-widgets/base",
            "_view_module_version": "1.2.0",
            "_view_name": "StyleView",
            "description_width": ""
          }
        },
        "454ad40156474dd7912229d4f5cdc7eb": {
          "model_module": "@jupyter-widgets/base",
          "model_name": "LayoutModel",
          "state": {
            "_model_module": "@jupyter-widgets/base",
            "_model_module_version": "1.2.0",
            "_model_name": "LayoutModel",
            "_view_count": null,
            "_view_module": "@jupyter-widgets/base",
            "_view_module_version": "1.2.0",
            "_view_name": "LayoutView",
            "align_content": null,
            "align_items": null,
            "align_self": null,
            "border": null,
            "bottom": null,
            "display": null,
            "flex": null,
            "flex_flow": null,
            "grid_area": null,
            "grid_auto_columns": null,
            "grid_auto_flow": null,
            "grid_auto_rows": null,
            "grid_column": null,
            "grid_gap": null,
            "grid_row": null,
            "grid_template_areas": null,
            "grid_template_columns": null,
            "grid_template_rows": null,
            "height": null,
            "justify_content": null,
            "justify_items": null,
            "left": null,
            "margin": null,
            "max_height": null,
            "max_width": null,
            "min_height": null,
            "min_width": null,
            "object_fit": null,
            "object_position": null,
            "order": null,
            "overflow": null,
            "overflow_x": null,
            "overflow_y": null,
            "padding": null,
            "right": null,
            "top": null,
            "visibility": null,
            "width": null
          }
        }
      }
    }
  },
  "cells": [
    {
      "cell_type": "code",
      "metadata": {
        "colab": {
          "base_uri": "https://localhost:8080/"
        },
        "id": "k8_Uk9rmilUy",
        "outputId": "3326e071-9a71-4ac0-e6ce-01f0136b7793"
      },
      "source": [
        "!pip install transformers==3"
      ],
      "execution_count": null,
      "outputs": [
        {
          "output_type": "stream",
          "text": [
            "Requirement already satisfied: transformers==3 in /home/soumik/anaconda3/lib/python3.8/site-packages (3.0.0)\n",
            "Requirement already satisfied: requests in /home/soumik/anaconda3/lib/python3.8/site-packages (from transformers==3) (2.24.0)\n",
            "Requirement already satisfied: sacremoses in /home/soumik/anaconda3/lib/python3.8/site-packages (from transformers==3) (0.0.43)\n",
            "Requirement already satisfied: regex!=2019.12.17 in /home/soumik/anaconda3/lib/python3.8/site-packages (from transformers==3) (2020.7.14)\n",
            "Requirement already satisfied: numpy in /home/soumik/anaconda3/lib/python3.8/site-packages (from transformers==3) (1.19.1)\n",
            "Requirement already satisfied: tqdm>=4.27 in /home/soumik/anaconda3/lib/python3.8/site-packages (from transformers==3) (4.50.0)\n",
            "Requirement already satisfied: sentencepiece in /home/soumik/anaconda3/lib/python3.8/site-packages (from transformers==3) (0.1.94)\n",
            "Requirement already satisfied: filelock in /home/soumik/anaconda3/lib/python3.8/site-packages (from transformers==3) (3.0.12)\n",
            "Requirement already satisfied: tokenizers==0.8.0-rc4 in /home/soumik/anaconda3/lib/python3.8/site-packages (from transformers==3) (0.8.0rc4)\n",
            "Requirement already satisfied: packaging in /home/soumik/anaconda3/lib/python3.8/site-packages (from transformers==3) (20.4)\n",
            "Requirement already satisfied: chardet<4,>=3.0.2 in /home/soumik/anaconda3/lib/python3.8/site-packages (from requests->transformers==3) (3.0.4)\n",
            "Requirement already satisfied: certifi>=2017.4.17 in /home/soumik/anaconda3/lib/python3.8/site-packages (from requests->transformers==3) (2020.6.20)\n",
            "Requirement already satisfied: urllib3!=1.25.0,!=1.25.1,<1.26,>=1.21.1 in /home/soumik/anaconda3/lib/python3.8/site-packages (from requests->transformers==3) (1.25.10)\n",
            "Requirement already satisfied: idna<3,>=2.5 in /home/soumik/anaconda3/lib/python3.8/site-packages (from requests->transformers==3) (2.10)\n",
            "Requirement already satisfied: click in /home/soumik/anaconda3/lib/python3.8/site-packages (from sacremoses->transformers==3) (7.1.2)\n",
            "Requirement already satisfied: six in /home/soumik/anaconda3/lib/python3.8/site-packages (from sacremoses->transformers==3) (1.15.0)\n",
            "Requirement already satisfied: joblib in /home/soumik/anaconda3/lib/python3.8/site-packages (from sacremoses->transformers==3) (0.17.0)\n",
            "Requirement already satisfied: pyparsing>=2.0.2 in /home/soumik/anaconda3/lib/python3.8/site-packages (from packaging->transformers==3) (2.4.7)\n"
          ],
          "name": "stdout"
        }
      ]
    },
    {
      "cell_type": "code",
      "metadata": {
        "colab": {
          "base_uri": "https://localhost:8080/"
        },
        "id": "bKACq-VLTwyn",
        "outputId": "9a35267b-0baf-4b45-acf5-1645d036cbba"
      },
      "source": [
        "import transformers \n",
        "from transformers import BertModel, BertTokenizer, AdamW, get_linear_schedule_with_warmup\n",
        "from transformers import DistilBertModel, DistilBertTokenizer, RobertaTokenizer, RobertaModel\n",
        "import torch\n",
        "import pandas as pd\n",
        "import seaborn as sns\n",
        "import matplotlib.pyplot as plt\n",
        "import numpy as np\n",
        "from pylab import rcParams\n",
        "from matplotlib import rc\n",
        "from sklearn.model_selection import train_test_split\n",
        "from sklearn.metrics import accuracy_score, f1_score, precision_score, recall_score, classification_report, confusion_matrix\n",
        "from tqdm import tqdm\n",
        "from torch import nn, optim \n",
        "from torch.utils import data\n",
        "from collections import defaultdict\n",
        "from textwrap import wrap\n",
        "from torch.utils.data import Dataset, DataLoader\n",
        "from matplotlib.ticker import MaxNLocator\n",
        "%matplotlib inline\n",
        "sns.set(style='whitegrid', palette='muted', font_scale=1.2)\n",
        "rcParams['figure.figsize'] = 12, 8\n",
        "RANDOM_SEED = 99\n",
        "np.random.seed(RANDOM_SEED)\n",
        "torch.manual_seed(RANDOM_SEED)"
      ],
      "execution_count": null,
      "outputs": [
        {
          "output_type": "execute_result",
          "data": {
            "text/plain": [
              "<torch._C.Generator at 0x7f9934052ab0>"
            ]
          },
          "metadata": {
            "tags": []
          },
          "execution_count": 2
        }
      ]
    },
    {
      "cell_type": "markdown",
      "metadata": {
        "id": "SnxDWK7pgq3q"
      },
      "source": [
        "# Read Data"
      ]
    },
    {
      "cell_type": "code",
      "metadata": {
        "id": "2fCID6hWTuC-"
      },
      "source": [
        "df_train = pd.read_csv(\"sentiment_dataset_train.csv\", index_col=0)\n",
        "df_dev = pd.read_csv(\"sentiment_dataset_dev.csv\", index_col=0)\n",
        "df_test = pd.read_csv(\"sentiment_dataset_test.csv\",index_col=0)"
      ],
      "execution_count": null,
      "outputs": []
    },
    {
      "cell_type": "code",
      "metadata": {
        "id": "N0TTHY9fW8r8"
      },
      "source": [
        "def groupRating(rating):\n",
        "  grp_rating = -1\n",
        "  rating = int(rating)\n",
        "  if rating == 1:\n",
        "    grp_rating = 0\n",
        "  elif rating == 2:\n",
        "    grp_rating = 1\n",
        "  elif rating == 3:\n",
        "    grp_rating = 2\n",
        "  elif rating == 4:\n",
        "    grp_rating = 3\n",
        "  else:\n",
        "    grp_rating = 4\n",
        "  return grp_rating\n",
        "\n",
        "\n",
        "df_train['rating_n'] = df_train.rating.apply(groupRating)\n",
        "df_dev['rating_n'] = df_dev.rating.apply(groupRating)\n"
      ],
      "execution_count": null,
      "outputs": []
    },
    {
      "cell_type": "markdown",
      "metadata": {
        "id": "FTaccXUup2Qw"
      },
      "source": [
        "# Data Processing"
      ]
    },
    {
      "cell_type": "code",
      "metadata": {
        "colab": {
          "base_uri": "https://localhost:8080/",
          "height": 692,
          "referenced_widgets": [
            "007c855413ac412f8ca90af36987b08d",
            "53e26a2d71674f75865569ed243a4132",
            "693e514653c34da1b089d92367061711",
            "5a85b9ca30b04d7fbe5bd8c948b8dc0b",
            "555316055b4f4bd8afd935ecf0f748e2",
            "69a450d947844589b48a756bb5a0569a",
            "2d8bac82f5764276963f1249a66eed7d",
            "fe2b2549404c4f858eca97db4a763ba4",
            "ec991f6e19904276b173dd8335edb983",
            "55eda52c3fac486aa2f38e2b7944888e",
            "584f48cda869472fa9937c1559560312",
            "150eea265d474c95b059c303c3735d91",
            "eb030d9297a64c909a70a6b7624110ca",
            "3ecb364b7208404ca48201751566297c",
            "9eca37aef3bd49abbc601b64f48f180d",
            "4a90e85a95004dc8ab3d5aa6b0c2e44c"
          ]
        },
        "id": "-M2_tSgRp106",
        "outputId": "6687d1eb-f307-4772-d43f-d916f8791649"
      },
      "source": [
        "#download pretrained tokenizer from bert\n",
        "# tokenizer = transformers.BertTokenizer.from_pretrained('bert-base-cased')\n",
        "# tokenizer = DistilBertTokenizer.from_pretrained('distilbert-base-cased')\n",
        "tokenizer = RobertaTokenizer.from_pretrained(\"roberta-base\")\n",
        "\n",
        "token_length=[]\n",
        "for content in df_train.review:\n",
        "  tokens = tokenizer.encode(content)\n",
        "  token_length.append(len(tokens))\n",
        "\n",
        "#check review's length distribution\n",
        "ax = sns.distplot(token_length)\n",
        "plt.xlim([0, 990]);\n",
        "plt.xlabel('length')"
      ],
      "execution_count": null,
      "outputs": [
        {
          "output_type": "stream",
          "text": [
            "Token indices sequence length is longer than the specified maximum sequence length for this model (594 > 512). Running this sequence through the model will result in indexing errors\n",
            "Token indices sequence length is longer than the specified maximum sequence length for this model (889 > 512). Running this sequence through the model will result in indexing errors\n",
            "Token indices sequence length is longer than the specified maximum sequence length for this model (525 > 512). Running this sequence through the model will result in indexing errors\n",
            "Token indices sequence length is longer than the specified maximum sequence length for this model (790 > 512). Running this sequence through the model will result in indexing errors\n",
            "Token indices sequence length is longer than the specified maximum sequence length for this model (604 > 512). Running this sequence through the model will result in indexing errors\n",
            "Token indices sequence length is longer than the specified maximum sequence length for this model (706 > 512). Running this sequence through the model will result in indexing errors\n",
            "Token indices sequence length is longer than the specified maximum sequence length for this model (519 > 512). Running this sequence through the model will result in indexing errors\n",
            "Token indices sequence length is longer than the specified maximum sequence length for this model (990 > 512). Running this sequence through the model will result in indexing errors\n",
            "Token indices sequence length is longer than the specified maximum sequence length for this model (731 > 512). Running this sequence through the model will result in indexing errors\n",
            "Token indices sequence length is longer than the specified maximum sequence length for this model (548 > 512). Running this sequence through the model will result in indexing errors\n",
            "Token indices sequence length is longer than the specified maximum sequence length for this model (728 > 512). Running this sequence through the model will result in indexing errors\n",
            "Token indices sequence length is longer than the specified maximum sequence length for this model (828 > 512). Running this sequence through the model will result in indexing errors\n",
            "Token indices sequence length is longer than the specified maximum sequence length for this model (559 > 512). Running this sequence through the model will result in indexing errors\n",
            "Token indices sequence length is longer than the specified maximum sequence length for this model (663 > 512). Running this sequence through the model will result in indexing errors\n",
            "Token indices sequence length is longer than the specified maximum sequence length for this model (999 > 512). Running this sequence through the model will result in indexing errors\n",
            "Token indices sequence length is longer than the specified maximum sequence length for this model (575 > 512). Running this sequence through the model will result in indexing errors\n",
            "/home/soumik/anaconda3/lib/python3.8/site-packages/seaborn/distributions.py:2551: FutureWarning: `distplot` is a deprecated function and will be removed in a future version. Please adapt your code to use either `displot` (a figure-level function with similar flexibility) or `histplot` (an axes-level function for histograms).\n",
            "  warnings.warn(msg, FutureWarning)\n"
          ],
          "name": "stderr"
        },
        {
          "output_type": "execute_result",
          "data": {
            "text/plain": [
              "Text(0.5, 0, 'length')"
            ]
          },
          "metadata": {
            "tags": []
          },
          "execution_count": 5
        },
        {
          "output_type": "display_data",
          "data": {
            "image/png": "[encoded data removed]",
            "text/plain": [
              "<Figure size 864x576 with 1 Axes>"
            ]
          },
          "metadata": {
            "tags": []
          }
        }
      ]
    },
    {
      "cell_type": "markdown",
      "metadata": {
        "id": "nLVc7TpSsl70"
      },
      "source": [
        "From this distribution, the choice of max length is seemingly 220."
      ]
    },
    {
      "cell_type": "markdown",
      "metadata": {
        "id": "ClVgydcNtNtW"
      },
      "source": [
        "# Initialization"
      ]
    },
    {
      "cell_type": "code",
      "metadata": {
        "id": "OWzjxhJJtGUM"
      },
      "source": [
        "# Defining some key variables\n",
        "MAX_LEN = 220\n",
        "BATCH_SIZE = 16\n",
        "EPOCHS = 20\n",
        "LEARNING_RATE = 1e-05"
      ],
      "execution_count": null,
      "outputs": []
    },
    {
      "cell_type": "markdown",
      "metadata": {
        "id": "r0cIzSAesWYg"
      },
      "source": [
        "# Create Dataset"
      ]
    },
    {
      "cell_type": "code",
      "metadata": {
        "id": "TyZNiSa8sYDQ"
      },
      "source": [
        "class Triage(data.Dataset):\n",
        "  '''\n",
        "  This method processes the input data (padding, truncating) and fits inside tensors\n",
        "  '''\n",
        "  def __init__(self, dataframe, tokenizer, max_len):\n",
        "      self.len = len(dataframe)\n",
        "      self.data = dataframe\n",
        "      self.tokenizer = tokenizer\n",
        "      self.max_len = max_len\n",
        "      \n",
        "  def __getitem__(self, index):\n",
        "    title = str(self.data.review[index])\n",
        "    title = \" \".join(title.split())\n",
        "    inputs = self.tokenizer.encode_plus(\n",
        "      title,\n",
        "      None,\n",
        "      add_special_tokens=True,\n",
        "      max_length=self.max_len,\n",
        "      pad_to_max_length=True,\n",
        "      return_token_type_ids=True,\n",
        "      truncation=True\n",
        "    )\n",
        "    ids = inputs['input_ids']\n",
        "    mask = inputs['attention_mask']\n",
        "\n",
        "    # This checks if the data is holdout (if yes then do not return the targets) or not\n",
        "    if self.data.shape[1]<2:     \n",
        "      return {\n",
        "        'review_text': title,\n",
        "        'ids': torch.tensor(ids, dtype=torch.long),\n",
        "        'mask': torch.tensor(mask, dtype=torch.long),\n",
        "      }  \n",
        "    \n",
        "    else: \n",
        "      return {\n",
        "        'review_text': title,\n",
        "        'ids': torch.tensor(ids, dtype=torch.long),\n",
        "        'mask': torch.tensor(mask, dtype=torch.long),\n",
        "        'targets': torch.tensor(self.data.rating_n[index], dtype=torch.long)\n",
        "    } \n",
        "\n",
        "  def __len__(self):\n",
        "    return self.len"
      ],
      "execution_count": null,
      "outputs": []
    },
    {
      "cell_type": "code",
      "metadata": {
        "id": "8DhEiU3rKD21"
      },
      "source": [
        "def create_data_loader(df, tokenizer, max_len, batch_size):\n",
        "  '''\n",
        "  this method uses the tokenizer and distributes the datasets into batches\n",
        "  '''\n",
        "  ds = Triage(\n",
        "      dataframe = df,\n",
        "      tokenizer = tokenizer,\n",
        "      max_len = max_len\n",
        "  )\n",
        "  return data.DataLoader(\n",
        "      ds,\n",
        "      batch_size = BATCH_SIZE,\n",
        "      num_workers = 0\n",
        "  )"
      ],
      "execution_count": null,
      "outputs": []
    },
    {
      "cell_type": "code",
      "metadata": {
        "colab": {
          "base_uri": "https://localhost:8080/"
        },
        "id": "8s19ZClAtfok",
        "outputId": "f9fac5d7-5ca9-4b14-9e23-ce806ab5175f"
      },
      "source": [
        "# train-val split\n",
        "df_train, df_val = train_test_split(df_train, test_size = 0.2, random_state=RANDOM_SEED)\n",
        "\n",
        "# preprocess the data\n",
        "training_loader = create_data_loader(df_train.reset_index(drop=True), tokenizer, MAX_LEN, BATCH_SIZE)\n",
        "val_loader = create_data_loader(df_val.reset_index(drop=True), tokenizer, MAX_LEN, BATCH_SIZE)\n",
        "test_loader = create_data_loader(df_dev.reset_index(drop=True), tokenizer, MAX_LEN, BATCH_SIZE)\n",
        "holdout_loader = create_data_loader(df_test.reset_index(drop=True), tokenizer, MAX_LEN, BATCH_SIZE)\n",
        "\n",
        "print(\"TRAIN Dataset: {}\".format(df_train.shape))\n",
        "print(\"VAL Dataset: {}\".format(df_val.shape))\n",
        "print(\"TEST Dataset: {}\".format(df_dev.shape))\n",
        "print(\"HOLDOUT Dataset: {}\".format(df_test.shape))"
      ],
      "execution_count": null,
      "outputs": [
        {
          "output_type": "stream",
          "text": [
            "TRAIN Dataset: (28003, 3)\n",
            "VAL Dataset: (7001, 3)\n",
            "TEST Dataset: (7499, 3)\n",
            "HOLDOUT Dataset: (6500, 1)\n"
          ],
          "name": "stdout"
        }
      ]
    },
    {
      "cell_type": "markdown",
      "metadata": {
        "id": "1udljKHot9cp"
      },
      "source": [
        "# Define RoBERTa Model"
      ]
    },
    {
      "cell_type": "code",
      "metadata": {
        "id": "ztNOVc_d73aj"
      },
      "source": [
        "# Creating the customized model, by adding a drop out and a dense layer on top of Roberta to get the final output for the model. \n",
        "class ClassifierClass(torch.nn.Module):\n",
        "  '''\n",
        "  This method defines the customized model\n",
        "  '''\n",
        "  def __init__(self, n_classes):\n",
        "    super(ClassifierClass, self).__init__()\n",
        "    # self.l1 = DistilBertModel.from_pretrained(\"distilbert-base-uncased\")\n",
        "    self.l1 = RobertaModel.from_pretrained('roberta-base')\n",
        "    self.pre_classifier = torch.nn.Linear(self.l1.config.hidden_size, 100)\n",
        "    self.dropout = torch.nn.Dropout(0.5)\n",
        "    self.classifier = torch.nn.Linear(100, n_classes)\n",
        "    self.softmax = nn.Softmax(dim=1)\n",
        "\n",
        "  def forward(self, input_ids, attention_mask):\n",
        "    output_1 = self.l1(input_ids=input_ids, attention_mask=attention_mask)\n",
        "    hidden_state = output_1[0]\n",
        "    pooler = hidden_state[:, 0]\n",
        "    pooler = self.dropout(pooler)\n",
        "    pooler = self.pre_classifier(pooler)\n",
        "    pooler = torch.nn.ReLU()(pooler)\n",
        "    pooler = self.dropout(pooler)\n",
        "    output = self.classifier(pooler)\n",
        "    return self.softmax(output)"
      ],
      "execution_count": null,
      "outputs": []
    },
    {
      "cell_type": "code",
      "metadata": {
        "colab": {
          "base_uri": "https://localhost:8080/",
          "height": 1000,
          "referenced_widgets": [
            "eab49099bbfc4ae695aaf9eadf81a582",
            "1b05a8fa2f27420cb16db42c65c098c8",
            "548e6daca31342b2bccd7588b53251c1",
            "ac414a99e38b420590c3e23fa7ec0c74",
            "abfad6c1ab534c92a03c28207cf28bd1",
            "6643e1b2c2ed40099395d7deca069189",
            "334626d225e146069526be82218ffd01",
            "cf3228650db34b29a6c13509ca535e4e",
            "885162691d46411dbeebad05fd8f2e40",
            "ee7a0f8861244704b097d67a6e890d63",
            "e0b6db1de7f444a1b3aaf17bfab1a231",
            "1b1f377707c34e67b24121a576f23b4e",
            "c6577c60b82847eab9152518463ef184",
            "a7be93d9d26d44a39256e6dde8067051",
            "e477b89497b94ee3905e97525475f757",
            "454ad40156474dd7912229d4f5cdc7eb"
          ]
        },
        "id": "Bcddf3xgvR-8",
        "outputId": "dfe44638-e2c1-469a-fecd-ae99acbdc17f"
      },
      "source": [
        "# set gpu\n",
        "device = torch.device(\"cuda:2\" if torch.cuda.is_available() else \"cpu\")\n",
        "model = ClassifierClass(len(df_train['rating'].unique()))\n",
        "model.to(device)"
      ],
      "execution_count": null,
      "outputs": [
        {
          "output_type": "execute_result",
          "data": {
            "text/plain": [
              "ClassifierClass(\n",
              "  (l1): RobertaModel(\n",
              "    (embeddings): RobertaEmbeddings(\n",
              "      (word_embeddings): Embedding(50265, 768, padding_idx=1)\n",
              "      (position_embeddings): Embedding(514, 768, padding_idx=1)\n",
              "      (token_type_embeddings): Embedding(1, 768)\n",
              "      (LayerNorm): LayerNorm((768,), eps=1e-05, elementwise_affine=True)\n",
              "      (dropout): Dropout(p=0.1, inplace=False)\n",
              "    )\n",
              "    (encoder): BertEncoder(\n",
              "      (layer): ModuleList(\n",
              "        (0): BertLayer(\n",
              "          (attention): BertAttention(\n",
              "            (self): BertSelfAttention(\n",
              "              (query): Linear(in_features=768, out_features=768, bias=True)\n",
              "              (key): Linear(in_features=768, out_features=768, bias=True)\n",
              "              (value): Linear(in_features=768, out_features=768, bias=True)\n",
              "              (dropout): Dropout(p=0.1, inplace=False)\n",
              "            )\n",
              "            (output): BertSelfOutput(\n",
              "              (dense): Linear(in_features=768, out_features=768, bias=True)\n",
              "              (LayerNorm): LayerNorm((768,), eps=1e-05, elementwise_affine=True)\n",
              "              (dropout): Dropout(p=0.1, inplace=False)\n",
              "            )\n",
              "          )\n",
              "          (intermediate): BertIntermediate(\n",
              "            (dense): Linear(in_features=768, out_features=3072, bias=True)\n",
              "          )\n",
              "          (output): BertOutput(\n",
              "            (dense): Linear(in_features=3072, out_features=768, bias=True)\n",
              "            (LayerNorm): LayerNorm((768,), eps=1e-05, elementwise_affine=True)\n",
              "            (dropout): Dropout(p=0.1, inplace=False)\n",
              "          )\n",
              "        )\n",
              "        (1): BertLayer(\n",
              "          (attention): BertAttention(\n",
              "            (self): BertSelfAttention(\n",
              "              (query): Linear(in_features=768, out_features=768, bias=True)\n",
              "              (key): Linear(in_features=768, out_features=768, bias=True)\n",
              "              (value): Linear(in_features=768, out_features=768, bias=True)\n",
              "              (dropout): Dropout(p=0.1, inplace=False)\n",
              "            )\n",
              "            (output): BertSelfOutput(\n",
              "              (dense): Linear(in_features=768, out_features=768, bias=True)\n",
              "              (LayerNorm): LayerNorm((768,), eps=1e-05, elementwise_affine=True)\n",
              "              (dropout): Dropout(p=0.1, inplace=False)\n",
              "            )\n",
              "          )\n",
              "          (intermediate): BertIntermediate(\n",
              "            (dense): Linear(in_features=768, out_features=3072, bias=True)\n",
              "          )\n",
              "          (output): BertOutput(\n",
              "            (dense): Linear(in_features=3072, out_features=768, bias=True)\n",
              "            (LayerNorm): LayerNorm((768,), eps=1e-05, elementwise_affine=True)\n",
              "            (dropout): Dropout(p=0.1, inplace=False)\n",
              "          )\n",
              "        )\n",
              "        (2): BertLayer(\n",
              "          (attention): BertAttention(\n",
              "            (self): BertSelfAttention(\n",
              "              (query): Linear(in_features=768, out_features=768, bias=True)\n",
              "              (key): Linear(in_features=768, out_features=768, bias=True)\n",
              "              (value): Linear(in_features=768, out_features=768, bias=True)\n",
              "              (dropout): Dropout(p=0.1, inplace=False)\n",
              "            )\n",
              "            (output): BertSelfOutput(\n",
              "              (dense): Linear(in_features=768, out_features=768, bias=True)\n",
              "              (LayerNorm): LayerNorm((768,), eps=1e-05, elementwise_affine=True)\n",
              "              (dropout): Dropout(p=0.1, inplace=False)\n",
              "            )\n",
              "          )\n",
              "          (intermediate): BertIntermediate(\n",
              "            (dense): Linear(in_features=768, out_features=3072, bias=True)\n",
              "          )\n",
              "          (output): BertOutput(\n",
              "            (dense): Linear(in_features=3072, out_features=768, bias=True)\n",
              "            (LayerNorm): LayerNorm((768,), eps=1e-05, elementwise_affine=True)\n",
              "            (dropout): Dropout(p=0.1, inplace=False)\n",
              "          )\n",
              "        )\n",
              "        (3): BertLayer(\n",
              "          (attention): BertAttention(\n",
              "            (self): BertSelfAttention(\n",
              "              (query): Linear(in_features=768, out_features=768, bias=True)\n",
              "              (key): Linear(in_features=768, out_features=768, bias=True)\n",
              "              (value): Linear(in_features=768, out_features=768, bias=True)\n",
              "              (dropout): Dropout(p=0.1, inplace=False)\n",
              "            )\n",
              "            (output): BertSelfOutput(\n",
              "              (dense): Linear(in_features=768, out_features=768, bias=True)\n",
              "              (LayerNorm): LayerNorm((768,), eps=1e-05, elementwise_affine=True)\n",
              "              (dropout): Dropout(p=0.1, inplace=False)\n",
              "            )\n",
              "          )\n",
              "          (intermediate): BertIntermediate(\n",
              "            (dense): Linear(in_features=768, out_features=3072, bias=True)\n",
              "          )\n",
              "          (output): BertOutput(\n",
              "            (dense): Linear(in_features=3072, out_features=768, bias=True)\n",
              "            (LayerNorm): LayerNorm((768,), eps=1e-05, elementwise_affine=True)\n",
              "            (dropout): Dropout(p=0.1, inplace=False)\n",
              "          )\n",
              "        )\n",
              "        (4): BertLayer(\n",
              "          (attention): BertAttention(\n",
              "            (self): BertSelfAttention(\n",
              "              (query): Linear(in_features=768, out_features=768, bias=True)\n",
              "              (key): Linear(in_features=768, out_features=768, bias=True)\n",
              "              (value): Linear(in_features=768, out_features=768, bias=True)\n",
              "              (dropout): Dropout(p=0.1, inplace=False)\n",
              "            )\n",
              "            (output): BertSelfOutput(\n",
              "              (dense): Linear(in_features=768, out_features=768, bias=True)\n",
              "              (LayerNorm): LayerNorm((768,), eps=1e-05, elementwise_affine=True)\n",
              "              (dropout): Dropout(p=0.1, inplace=False)\n",
              "            )\n",
              "          )\n",
              "          (intermediate): BertIntermediate(\n",
              "            (dense): Linear(in_features=768, out_features=3072, bias=True)\n",
              "          )\n",
              "          (output): BertOutput(\n",
              "            (dense): Linear(in_features=3072, out_features=768, bias=True)\n",
              "            (LayerNorm): LayerNorm((768,), eps=1e-05, elementwise_affine=True)\n",
              "            (dropout): Dropout(p=0.1, inplace=False)\n",
              "          )\n",
              "        )\n",
              "        (5): BertLayer(\n",
              "          (attention): BertAttention(\n",
              "            (self): BertSelfAttention(\n",
              "              (query): Linear(in_features=768, out_features=768, bias=True)\n",
              "              (key): Linear(in_features=768, out_features=768, bias=True)\n",
              "              (value): Linear(in_features=768, out_features=768, bias=True)\n",
              "              (dropout): Dropout(p=0.1, inplace=False)\n",
              "            )\n",
              "            (output): BertSelfOutput(\n",
              "              (dense): Linear(in_features=768, out_features=768, bias=True)\n",
              "              (LayerNorm): LayerNorm((768,), eps=1e-05, elementwise_affine=True)\n",
              "              (dropout): Dropout(p=0.1, inplace=False)\n",
              "            )\n",
              "          )\n",
              "          (intermediate): BertIntermediate(\n",
              "            (dense): Linear(in_features=768, out_features=3072, bias=True)\n",
              "          )\n",
              "          (output): BertOutput(\n",
              "            (dense): Linear(in_features=3072, out_features=768, bias=True)\n",
              "            (LayerNorm): LayerNorm((768,), eps=1e-05, elementwise_affine=True)\n",
              "            (dropout): Dropout(p=0.1, inplace=False)\n",
              "          )\n",
              "        )\n",
              "        (6): BertLayer(\n",
              "          (attention): BertAttention(\n",
              "            (self): BertSelfAttention(\n",
              "              (query): Linear(in_features=768, out_features=768, bias=True)\n",
              "              (key): Linear(in_features=768, out_features=768, bias=True)\n",
              "              (value): Linear(in_features=768, out_features=768, bias=True)\n",
              "              (dropout): Dropout(p=0.1, inplace=False)\n",
              "            )\n",
              "            (output): BertSelfOutput(\n",
              "              (dense): Linear(in_features=768, out_features=768, bias=True)\n",
              "              (LayerNorm): LayerNorm((768,), eps=1e-05, elementwise_affine=True)\n",
              "              (dropout): Dropout(p=0.1, inplace=False)\n",
              "            )\n",
              "          )\n",
              "          (intermediate): BertIntermediate(\n",
              "            (dense): Linear(in_features=768, out_features=3072, bias=True)\n",
              "          )\n",
              "          (output): BertOutput(\n",
              "            (dense): Linear(in_features=3072, out_features=768, bias=True)\n",
              "            (LayerNorm): LayerNorm((768,), eps=1e-05, elementwise_affine=True)\n",
              "            (dropout): Dropout(p=0.1, inplace=False)\n",
              "          )\n",
              "        )\n",
              "        (7): BertLayer(\n",
              "          (attention): BertAttention(\n",
              "            (self): BertSelfAttention(\n",
              "              (query): Linear(in_features=768, out_features=768, bias=True)\n",
              "              (key): Linear(in_features=768, out_features=768, bias=True)\n",
              "              (value): Linear(in_features=768, out_features=768, bias=True)\n",
              "              (dropout): Dropout(p=0.1, inplace=False)\n",
              "            )\n",
              "            (output): BertSelfOutput(\n",
              "              (dense): Linear(in_features=768, out_features=768, bias=True)\n",
              "              (LayerNorm): LayerNorm((768,), eps=1e-05, elementwise_affine=True)\n",
              "              (dropout): Dropout(p=0.1, inplace=False)\n",
              "            )\n",
              "          )\n",
              "          (intermediate): BertIntermediate(\n",
              "            (dense): Linear(in_features=768, out_features=3072, bias=True)\n",
              "          )\n",
              "          (output): BertOutput(\n",
              "            (dense): Linear(in_features=3072, out_features=768, bias=True)\n",
              "            (LayerNorm): LayerNorm((768,), eps=1e-05, elementwise_affine=True)\n",
              "            (dropout): Dropout(p=0.1, inplace=False)\n",
              "          )\n",
              "        )\n",
              "        (8): BertLayer(\n",
              "          (attention): BertAttention(\n",
              "            (self): BertSelfAttention(\n",
              "              (query): Linear(in_features=768, out_features=768, bias=True)\n",
              "              (key): Linear(in_features=768, out_features=768, bias=True)\n",
              "              (value): Linear(in_features=768, out_features=768, bias=True)\n",
              "              (dropout): Dropout(p=0.1, inplace=False)\n",
              "            )\n",
              "            (output): BertSelfOutput(\n",
              "              (dense): Linear(in_features=768, out_features=768, bias=True)\n",
              "              (LayerNorm): LayerNorm((768,), eps=1e-05, elementwise_affine=True)\n",
              "              (dropout): Dropout(p=0.1, inplace=False)\n",
              "            )\n",
              "          )\n",
              "          (intermediate): BertIntermediate(\n",
              "            (dense): Linear(in_features=768, out_features=3072, bias=True)\n",
              "          )\n",
              "          (output): BertOutput(\n",
              "            (dense): Linear(in_features=3072, out_features=768, bias=True)\n",
              "            (LayerNorm): LayerNorm((768,), eps=1e-05, elementwise_affine=True)\n",
              "            (dropout): Dropout(p=0.1, inplace=False)\n",
              "          )\n",
              "        )\n",
              "        (9): BertLayer(\n",
              "          (attention): BertAttention(\n",
              "            (self): BertSelfAttention(\n",
              "              (query): Linear(in_features=768, out_features=768, bias=True)\n",
              "              (key): Linear(in_features=768, out_features=768, bias=True)\n",
              "              (value): Linear(in_features=768, out_features=768, bias=True)\n",
              "              (dropout): Dropout(p=0.1, inplace=False)\n",
              "            )\n",
              "            (output): BertSelfOutput(\n",
              "              (dense): Linear(in_features=768, out_features=768, bias=True)\n",
              "              (LayerNorm): LayerNorm((768,), eps=1e-05, elementwise_affine=True)\n",
              "              (dropout): Dropout(p=0.1, inplace=False)\n",
              "            )\n",
              "          )\n",
              "          (intermediate): BertIntermediate(\n",
              "            (dense): Linear(in_features=768, out_features=3072, bias=True)\n",
              "          )\n",
              "          (output): BertOutput(\n",
              "            (dense): Linear(in_features=3072, out_features=768, bias=True)\n",
              "            (LayerNorm): LayerNorm((768,), eps=1e-05, elementwise_affine=True)\n",
              "            (dropout): Dropout(p=0.1, inplace=False)\n",
              "          )\n",
              "        )\n",
              "        (10): BertLayer(\n",
              "          (attention): BertAttention(\n",
              "            (self): BertSelfAttention(\n",
              "              (query): Linear(in_features=768, out_features=768, bias=True)\n",
              "              (key): Linear(in_features=768, out_features=768, bias=True)\n",
              "              (value): Linear(in_features=768, out_features=768, bias=True)\n",
              "              (dropout): Dropout(p=0.1, inplace=False)\n",
              "            )\n",
              "            (output): BertSelfOutput(\n",
              "              (dense): Linear(in_features=768, out_features=768, bias=True)\n",
              "              (LayerNorm): LayerNorm((768,), eps=1e-05, elementwise_affine=True)\n",
              "              (dropout): Dropout(p=0.1, inplace=False)\n",
              "            )\n",
              "          )\n",
              "          (intermediate): BertIntermediate(\n",
              "            (dense): Linear(in_features=768, out_features=3072, bias=True)\n",
              "          )\n",
              "          (output): BertOutput(\n",
              "            (dense): Linear(in_features=3072, out_features=768, bias=True)\n",
              "            (LayerNorm): LayerNorm((768,), eps=1e-05, elementwise_affine=True)\n",
              "            (dropout): Dropout(p=0.1, inplace=False)\n",
              "          )\n",
              "        )\n",
              "        (11): BertLayer(\n",
              "          (attention): BertAttention(\n",
              "            (self): BertSelfAttention(\n",
              "              (query): Linear(in_features=768, out_features=768, bias=True)\n",
              "              (key): Linear(in_features=768, out_features=768, bias=True)\n",
              "              (value): Linear(in_features=768, out_features=768, bias=True)\n",
              "              (dropout): Dropout(p=0.1, inplace=False)\n",
              "            )\n",
              "            (output): BertSelfOutput(\n",
              "              (dense): Linear(in_features=768, out_features=768, bias=True)\n",
              "              (LayerNorm): LayerNorm((768,), eps=1e-05, elementwise_affine=True)\n",
              "              (dropout): Dropout(p=0.1, inplace=False)\n",
              "            )\n",
              "          )\n",
              "          (intermediate): BertIntermediate(\n",
              "            (dense): Linear(in_features=768, out_features=3072, bias=True)\n",
              "          )\n",
              "          (output): BertOutput(\n",
              "            (dense): Linear(in_features=3072, out_features=768, bias=True)\n",
              "            (LayerNorm): LayerNorm((768,), eps=1e-05, elementwise_affine=True)\n",
              "            (dropout): Dropout(p=0.1, inplace=False)\n",
              "          )\n",
              "        )\n",
              "      )\n",
              "    )\n",
              "    (pooler): BertPooler(\n",
              "      (dense): Linear(in_features=768, out_features=768, bias=True)\n",
              "      (activation): Tanh()\n",
              "    )\n",
              "  )\n",
              "  (pre_classifier): Linear(in_features=768, out_features=100, bias=True)\n",
              "  (dropout): Dropout(p=0.5, inplace=False)\n",
              "  (classifier): Linear(in_features=100, out_features=5, bias=True)\n",
              "  (softmax): Softmax(dim=1)\n",
              ")"
            ]
          },
          "metadata": {
            "tags": []
          },
          "execution_count": 17
        }
      ]
    },
    {
      "cell_type": "markdown",
      "metadata": {
        "id": "fV_7f642wCeg"
      },
      "source": [
        "# Training"
      ]
    },
    {
      "cell_type": "code",
      "metadata": {
        "id": "1HLn-voti-tN"
      },
      "source": [
        "# Creating the loss function and optimizer\n",
        "loss_function = torch.nn.CrossEntropyLoss()\n",
        "optimizer = torch.optim.Adam(params =  model.parameters(), lr=LEARNING_RATE)"
      ],
      "execution_count": null,
      "outputs": []
    },
    {
      "cell_type": "code",
      "metadata": {
        "id": "v8VVxhtzwLxi"
      },
      "source": [
        "def calcuate_accu(big_idx, targets):\n",
        "  n_correct = (big_idx==targets).sum().item()\n",
        "  return n_correct\n",
        "\n",
        "# Defining the training function\n",
        "def train(epoch):\n",
        "  '''\n",
        "  This moethod runs the training epochs\n",
        "  '''\n",
        "  tr_loss = 0\n",
        "  n_correct = 0\n",
        "  nb_tr_steps = 0\n",
        "  nb_tr_examples = 0\n",
        "  model.train()\n",
        "  for _,data in enumerate(training_loader, 0):\n",
        "    ids = data['ids'].to(device, dtype = torch.long)\n",
        "    mask = data['mask'].to(device, dtype = torch.long)\n",
        "    targets = data['targets'].to(device, dtype = torch.long)\n",
        "\n",
        "    outputs = model(ids, mask)\n",
        "    loss = loss_function(outputs, targets)\n",
        "    tr_loss += loss.item()\n",
        "    big_val, big_idx = torch.max(outputs.data, dim=1)\n",
        "    n_correct += calcuate_accu(big_idx, targets)\n",
        "\n",
        "    nb_tr_steps += 1\n",
        "    nb_tr_examples+=targets.size(0)\n",
        "    \n",
        "    # if _%5000==0:\n",
        "    #     loss_step = tr_loss/nb_tr_steps\n",
        "    #     accu_step = (n_correct*100)/nb_tr_examples \n",
        "    #     print(f\"Training Loss per 5000 steps: {loss_step}\")\n",
        "    #     print(f\"Training Accuracy per 5000 steps: {accu_step}\")\n",
        "\n",
        "    optimizer.zero_grad()\n",
        "    loss.backward()\n",
        "    optimizer.step()\n",
        "\n",
        "  epoch_loss = tr_loss/nb_tr_steps\n",
        "  epoch_accu = (n_correct*100)/nb_tr_examples\n",
        "\n",
        "\n",
        "  return epoch_loss , epoch_accu"
      ],
      "execution_count": null,
      "outputs": []
    },
    {
      "cell_type": "code",
      "metadata": {
        "id": "o2Q-RGU5wOx0"
      },
      "source": [
        "def val(epoch):\n",
        "  '''\n",
        "  This moethod runs the validation epochs\n",
        "  '''\n",
        "  model.eval()\n",
        "  nb_tr_examples = 0\n",
        "  nb_tr_steps = 0\n",
        "  tr_loss = 0\n",
        "  n_correct = 0\n",
        "  with torch.no_grad():\n",
        "    for _, data in enumerate(val_loader, 0):\n",
        "      ids = data['ids'].to(device, dtype = torch.long)\n",
        "      mask = data['mask'].to(device, dtype = torch.long)\n",
        "      targets = data['targets'].to(device, dtype = torch.long)\n",
        "\n",
        "      outputs = model(ids, mask).squeeze()\n",
        "      loss = loss_function(outputs, targets)\n",
        "      tr_loss += loss.item()\n",
        "      big_val, big_idx = torch.max(outputs.data, dim=1)\n",
        "      n_correct += calcuate_accu(big_idx, targets)\n",
        "\n",
        "      nb_tr_steps += 1\n",
        "      nb_tr_examples+=targets.size(0)\n",
        "\n",
        "      # if _%5000==0:\n",
        "      #   loss_step = tr_loss/nb_tr_steps\n",
        "      #   accu_step = (n_correct*100)/nb_tr_examples\n",
        "      #   print(f\"Validation Loss per 100 steps: {loss_step}\")\n",
        "      #   print(f\"Validation Accuracy per 100 steps: {accu_step}\")\n",
        "\n",
        "      epoch_loss = tr_loss/nb_tr_steps\n",
        "      epoch_accu = (n_correct*100)/nb_tr_examples\n",
        "\n",
        "  return epoch_loss, epoch_accu\n"
      ],
      "execution_count": null,
      "outputs": []
    },
    {
      "cell_type": "code",
      "metadata": {
        "colab": {
          "base_uri": "https://localhost:8080/"
        },
        "id": "khv1LahPwR_G",
        "outputId": "fa46cdfb-655c-4e4f-c063-d690580e7668"
      },
      "source": [
        "# iterate through the epochs and save the best performing model \n",
        "history = defaultdict(list)\n",
        "best_accuracy = 0\n",
        "\n",
        "for epoch in range(EPOCHS):\n",
        "  print(\"Epoch \"+str(epoch+1)+\"/\"+str(EPOCHS))\n",
        "  print(\"-\"*10)\n",
        "  train_loss, train_acc = train(epoch)\n",
        "  print(f'Train loss {train_loss} Train accuracy {train_acc}')\n",
        "  history['train_acc'].append(train_acc)\n",
        "  history['train_loss'].append(train_loss)\n",
        "  val_loss, val_acc = val(epoch)\n",
        "  print(f'Val loss {val_loss} Val accuracy {val_acc}')\n",
        "  history['val_acc'].append(val_acc)\n",
        "  history['val_loss'].append(val_loss)\n",
        "  print()\n",
        "\n",
        "  # check the best model\n",
        "  if val_acc > best_accuracy:\n",
        "    torch.save(model.state_dict(), 'model.bin')\n",
        "    best_accuracy = val_acc"
      ],
      "execution_count": null,
      "outputs": [
        {
          "output_type": "stream",
          "text": [
            "Epoch 1/20\n",
            "----------\n",
            "Train loss 1.2563119234867195 Train accuracy 66.32860764918044\n",
            "Val loss 1.1438531421090914 Val accuracy 76.01771175546351\n",
            "\n",
            "Epoch 2/20\n",
            "----------\n",
            "Train loss 1.1468908859960425 Train accuracy 76.18469449701817\n",
            "Val loss 1.1384952760994707 Val accuracy 76.5033566633338\n",
            "\n",
            "Epoch 3/20\n",
            "----------\n",
            "Train loss 1.1344531926000412 Train accuracy 77.15601899796451\n",
            "Val loss 1.1427282201100701 Val accuracy 76.10341379802885\n",
            "\n",
            "Epoch 4/20\n",
            "----------\n",
            "Train loss 1.1236213045008587 Train accuracy 78.19876441809807\n",
            "Val loss 1.1459216954501252 Val accuracy 75.67490358520212\n",
            "\n",
            "Epoch 5/20\n",
            "----------\n",
            "Train loss 1.1102892642767344 Train accuracy 79.41649109024033\n",
            "Val loss 1.1274579367409014 Val accuracy 77.57463219540065\n",
            "\n",
            "Epoch 6/20\n",
            "----------\n",
            "Train loss 1.1074493500860945 Train accuracy 79.8093061457701\n",
            "Val loss 1.1693340886945593 Val accuracy 73.5466361948293\n",
            "\n",
            "Epoch 7/20\n",
            "----------\n",
            "Train loss 1.1092617831728515 Train accuracy 79.52719351498054\n",
            "Val loss 1.1418334864862434 Val accuracy 76.2033995143551\n",
            "\n",
            "Epoch 8/20\n",
            "----------\n",
            "Train loss 1.10186412380737 Train accuracy 80.27711316644645\n",
            "Val loss 1.1287930278473248 Val accuracy 77.5174975003571\n",
            "\n",
            "Epoch 9/20\n",
            "----------\n",
            "Train loss 1.0918240996512736 Train accuracy 81.25200871335214\n",
            "Val loss 1.1341643910429793 Val accuracy 76.93186687616056\n",
            "\n",
            "Epoch 10/20\n",
            "----------\n",
            "Train loss 1.0844635031415284 Train accuracy 81.93764953754955\n",
            "Val loss 1.121252204729542 Val accuracy 78.20311384087988\n",
            "\n",
            "Epoch 11/20\n",
            "----------\n",
            "Train loss 1.087590261638539 Train accuracy 81.6733921365568\n",
            "Val loss 1.1250686068513078 Val accuracy 77.91744036566205\n",
            "\n",
            "Epoch 12/20\n",
            "----------\n",
            "Train loss 1.088383447640559 Train accuracy 81.5984001714102\n",
            "Val loss 1.1382931510335235 Val accuracy 76.5033566633338\n",
            "\n",
            "Epoch 13/20\n",
            "----------\n",
            "Train loss 1.076379969418219 Train accuracy 82.78755847587759\n",
            "Val loss 1.1370626625405054 Val accuracy 76.76046279102985\n",
            "\n",
            "Epoch 14/20\n",
            "----------\n",
            "Train loss 1.0678885223047179 Train accuracy 83.62675427632753\n",
            "Val loss 1.121234117305442 Val accuracy 78.24596486216255\n",
            "\n",
            "Epoch 15/20\n",
            "----------\n",
            "Train loss 1.0655771247800045 Train accuracy 83.84815912580795\n",
            "Val loss 1.1530394736490293 Val accuracy 75.11784030852735\n",
            "\n",
            "Epoch 16/20\n",
            "----------\n",
            "Train loss 1.066363051916653 Train accuracy 83.78030925258008\n",
            "Val loss 1.1301144166896333 Val accuracy 77.30324239394372\n",
            "\n",
            "Epoch 17/20\n",
            "----------\n",
            "Train loss 1.069451899681004 Train accuracy 83.45177302431883\n",
            "Val loss 1.1254244923047279 Val accuracy 77.81745464933582\n",
            "\n",
            "Epoch 18/20\n",
            "----------\n",
            "Train loss 1.068341850451508 Train accuracy 83.61604113844945\n",
            "Val loss 1.1253582480019086 Val accuracy 77.93172403942295\n",
            "\n",
            "Epoch 19/20\n",
            "----------\n",
            "Train loss 1.0683039566369006 Train accuracy 83.5731885869371\n",
            "Val loss 1.1190167613769775 Val accuracy 78.4887873160977\n",
            "\n",
            "Epoch 20/20\n",
            "----------\n",
            "Train loss 1.06873865848538 Train accuracy 83.60889904653072\n",
            "Val loss 1.1403342607903153 Val accuracy 76.38908727324667\n",
            "\n"
          ],
          "name": "stdout"
        }
      ]
    },
    {
      "cell_type": "markdown",
      "metadata": {
        "id": "pQl_b8LHjF0x"
      },
      "source": [
        "# Performance Analysis"
      ]
    },
    {
      "cell_type": "code",
      "metadata": {
        "colab": {
          "base_uri": "https://localhost:8080/",
          "height": 523
        },
        "id": "TUDDcgvIop0B",
        "outputId": "6044b8cd-d0b8-4c20-ec81-9a65409cadf4"
      },
      "source": [
        "ax = plt.figure().gca()\n",
        "ax.xaxis.set_major_locator(MaxNLocator(integer=True))\n",
        "\n",
        "ax.plot(history['train_acc'])\n",
        "ax.plot(history['val_acc'])\n",
        "plt.ylabel('Accuracy')\n",
        "plt.xlabel('Epoch')\n",
        "plt.legend(['train', 'val'])\n",
        "plt.title('Accuracy over training epochs')\n",
        "plt.show();"
      ],
      "execution_count": null,
      "outputs": [
        {
          "output_type": "display_data",
          "data": {
            "image/png": "[encoded data removed]",
            "text/plain": [
              "<Figure size 864x576 with 1 Axes>"
            ]
          },
          "metadata": {
            "tags": []
          }
        }
      ]
    },
    {
      "cell_type": "code",
      "metadata": {
        "colab": {
          "base_uri": "https://localhost:8080/",
          "height": 523
        },
        "id": "pFErLCcupRLj",
        "outputId": "9786c2c6-4adf-489e-9958-7fc5a1c43370"
      },
      "source": [
        "ax = plt.figure().gca()\n",
        "ax.xaxis.set_major_locator(MaxNLocator(integer=True))\n",
        "\n",
        "ax.plot(history['train_loss'])\n",
        "ax.plot(history['val_loss'])\n",
        "plt.ylabel('Loss')\n",
        "plt.xlabel('Epoch')\n",
        "plt.legend(['train', 'val'])\n",
        "plt.title('Loss over training epochs')\n",
        "plt.show();"
      ],
      "execution_count": null,
      "outputs": [
        {
          "output_type": "display_data",
          "data": {
            "image/png": "[encoded data removed]",
            "text/plain": [
              "<Figure size 864x576 with 1 Axes>"
            ]
          },
          "metadata": {
            "tags": []
          }
        }
      ]
    },
    {
      "cell_type": "markdown",
      "metadata": {
        "id": "oLyxnr-7jJEs"
      },
      "source": [
        "The models seems to be getting overfitted. However, many regularizations techniques can be followed to battle this. Please check [this article](https://machinelearningmastery.com/introduction-to-regularization-to-reduce-overfitting-and-improve-generalization-error/) to learn about some of the potential techniques."
      ]
    },
    {
      "cell_type": "code",
      "metadata": {
        "id": "aN4ap9cbeJ9V"
      },
      "source": [
        "# load the best performing model\n",
        "model = ClassifierClass(len(df_train['rating'].unique()))\n",
        "model.load_state_dict(torch.load('model.bin'))\n",
        "model = model.to(device)"
      ],
      "execution_count": null,
      "outputs": []
    },
    {
      "cell_type": "code",
      "metadata": {
        "id": "ZVKebHi55nEB"
      },
      "source": [
        "def test(model, data_loader, holdout=0):\n",
        "  '''\n",
        "  input: model, data_loader, holdout=0 : checks if the data is holdout or not\n",
        "  output: review_texts, predictions, prediction_probabilities, real_values\n",
        "  This method takes the test data and calculates accuracy\n",
        "  '''\n",
        "  model.eval()\n",
        "  review_texts = []\n",
        "  predictions = []\n",
        "  prediction_probs = []\n",
        "  real_values = []\n",
        "  with torch.no_grad():\n",
        "    for _, data in enumerate(data_loader):\n",
        "\n",
        "      texts = data['review_text']\n",
        "      ids = data['ids'].to(device, dtype = torch.long)\n",
        "      mask = data['mask'].to(device, dtype = torch.long)\n",
        "      outputs = model(ids, mask).squeeze()\n",
        "      big_val, preds = torch.max(outputs.data, dim=1)\n",
        "      review_texts.extend(texts)\n",
        "      predictions.extend(preds)\n",
        "      prediction_probs.extend(outputs)\n",
        "      if not holdout:\n",
        "        targets = data['targets'].to(device, dtype = torch.long)\n",
        "        real_values.extend(targets)\n",
        "\n",
        "  predictions = torch.stack(predictions).cpu()\n",
        "  prediction_probs = torch.stack(prediction_probs).cpu()\n",
        "\n",
        "  if not holdout:\n",
        "    real_values = torch.stack(real_values).cpu()\n",
        "  \n",
        "\n",
        "  return review_texts, predictions, prediction_probs, real_values \n"
      ],
      "execution_count": null,
      "outputs": []
    },
    {
      "cell_type": "markdown",
      "metadata": {
        "id": "fO27gGWTj5Vb"
      },
      "source": [
        "### Check the performance for the test data"
      ]
    },
    {
      "cell_type": "code",
      "metadata": {
        "id": "aDC_o4AZ5qNI"
      },
      "source": [
        "y_review_texts, y_pred, y_pred_probs, y_test = test(model, test_loader, holdout=0)"
      ],
      "execution_count": null,
      "outputs": []
    },
    {
      "cell_type": "code",
      "metadata": {
        "id": "URFTZ2yFOllx"
      },
      "source": [
        "# Classificaiton metrics - precision, recall, f1, and accuracy\n",
        "def get_metrics(y_test, y_predicted): \n",
        "  '''\n",
        "  input: y_test, y_pred\n",
        "  output: accuracy, precision, recall, f1\n",
        "  This method calculates the performance of the model.\n",
        "  '''\n",
        "  # true positives / (true positives+false positives)\n",
        "  precision = precision_score(y_test, y_predicted, pos_label=None,\n",
        "                                  average='weighted')             \n",
        "  # true positives / (true positives + false negatives)\n",
        "  recall = recall_score(y_test, y_predicted, pos_label=None,\n",
        "                            average='weighted')\n",
        "  \n",
        "  # harmonic mean of precision and recall\n",
        "  f1 = f1_score(y_test, y_predicted, pos_label=None, average='weighted')\n",
        "  \n",
        "  # true positives + true negatives/ total\n",
        "  accuracy = accuracy_score(y_test, y_predicted)\n",
        "  return accuracy, precision, recall, f1\n",
        "\n",
        "# Showing Confusion Matrix\n",
        "def plot_cm(y_true, y_pred, title, figsize=(5,5)):\n",
        "  '''\n",
        "  input: y_true, y_pred, title, figsize\n",
        "  This method plots the confusion matrix\n",
        "  '''\n",
        "  cm = confusion_matrix(y_true, y_pred, labels=np.unique(y_true))\n",
        "  cm_sum = np.sum(cm, axis=1, keepdims=True)\n",
        "  cm_perc = cm / cm_sum.astype(float) * 100\n",
        "  annot = np.empty_like(cm).astype(str)\n",
        "  nrows, ncols = cm.shape\n",
        "  for i in range(nrows):\n",
        "      for j in range(ncols):\n",
        "          c = cm[i, j]\n",
        "          p = cm_perc[i, j]\n",
        "          if i == j:\n",
        "              s = cm_sum[i]\n",
        "              annot[i, j] = '%.1f%%\\n%d/%d' % (p, c, s)\n",
        "          elif c == 0:\n",
        "              annot[i, j] = ''\n",
        "          else:\n",
        "              annot[i, j] = '%.1f%%\\n%d' % (p, c)\n",
        "  cm = pd.DataFrame(cm, index=np.unique(y_true), columns=np.unique(y_true))\n",
        "  cm.index.name = 'Actual'\n",
        "  cm.columns.name = 'Predicted'\n",
        "  fig, ax = plt.subplots(figsize=figsize)\n",
        "  plt.title(title)\n",
        "  sns.heatmap(cm, cmap= \"YlGnBu\", annot=annot, fmt='', ax=ax)"
      ],
      "execution_count": null,
      "outputs": []
    },
    {
      "cell_type": "code",
      "metadata": {
        "colab": {
          "base_uri": "https://localhost:8080/"
        },
        "id": "c0PYfFYAO_mC",
        "outputId": "19caeac4-82eb-46a2-d528-4ef6cc80b00c"
      },
      "source": [
        "accuracy, precision, recall, f1 = get_metrics(y_test, y_pred)\n",
        "print(\"accuracy = %.3f \\nprecision = %.3f \\nrecall = %.3f \\nf1 = %.3f\" % (accuracy, precision, recall, f1))"
      ],
      "execution_count": null,
      "outputs": [
        {
          "output_type": "stream",
          "text": [
            "accuracy = 0.791 \n",
            "precision = 0.793 \n",
            "recall = 0.791 \n",
            "f1 = 0.792\n"
          ],
          "name": "stdout"
        }
      ]
    },
    {
      "cell_type": "code",
      "metadata": {
        "colab": {
          "base_uri": "https://localhost:8080/",
          "height": 469
        },
        "id": "Sw5iiSY4PWlm",
        "scrolled": true,
        "outputId": "8366cff4-a1fe-4207-ed9e-f4850a7e64d8"
      },
      "source": [
        "# Showing Confusion Matrix for bow model\n",
        "plot_cm([x+1 for x in y_test], [x+1 for x in y_pred], 'Confusion matrix for Distilbert model', figsize=(7,7))"
      ],
      "execution_count": null,
      "outputs": [
        {
          "output_type": "display_data",
          "data": {
            "image/png": "[encoded data removed]",
            "text/plain": [
              "<Figure size 504x504 with 2 Axes>"
            ]
          },
          "metadata": {
            "tags": []
          }
        }
      ]
    },
    {
      "cell_type": "markdown",
      "metadata": {
        "id": "vr6Yo4HAkLVz"
      },
      "source": [
        "### Calculate the performance for the holdout data"
      ]
    },
    {
      "cell_type": "code",
      "metadata": {
        "id": "Nk-RtAHWhK22"
      },
      "source": [
        "y_review_texts_holdout, y_pred_holdout, y_pred_probs_holdout, y_test_holdout = test(model, holdout_loader, holdout=1)"
      ],
      "execution_count": null,
      "outputs": []
    },
    {
      "cell_type": "code",
      "metadata": {
        "id": "8zQWSGFFmWYx"
      },
      "source": [
        "df_test['predicted_sota'] = [x+1 for x in y_pred_holdout.tolist()]\n",
        "df_test.to_csv('sentiment_processed_test.csv')"
      ],
      "execution_count": null,
      "outputs": []
    },
    {
      "cell_type": "markdown",
      "metadata": {
        "id": "5FTz-0KgkSmA"
      },
      "source": [
        "# Save the model"
      ]
    },
    {
      "cell_type": "code",
      "metadata": {
        "id": "2qtb2ouVge0H"
      },
      "source": [
        "#model=model.to(device)\n",
        "PATH_1= \"model_dict.pt\"\n",
        "torch.save(model.state_dict(),PATH_1)\n",
        "\n",
        "PATH_2=\"model.pt\"\n",
        "torch.save(model,PATH_2)"
      ],
      "execution_count": null,
      "outputs": []
    }
  ]
}